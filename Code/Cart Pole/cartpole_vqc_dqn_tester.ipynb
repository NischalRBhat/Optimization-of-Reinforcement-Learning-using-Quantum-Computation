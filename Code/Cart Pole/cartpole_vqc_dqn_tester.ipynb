{
 "cells": [
  {
   "cell_type": "markdown",
   "metadata": {},
   "source": [
    "## Importing Libraries"
   ]
  },
  {
   "cell_type": "code",
   "execution_count": 112,
   "metadata": {},
   "outputs": [],
   "source": [
    "import gym\n",
    "import numpy as np\n",
    "import pennylane as qml\n",
    "import torch\n",
    "import torch.nn as nn\n",
    "from torch.nn.parameter import Parameter\n",
    "import gym.spaces\n",
    "from gym.envs.registration import register\n",
    "from gym.envs import toy_text\n",
    "import torch.nn.functional as F\n",
    "from torch.distributions import Categorical"
   ]
  },
  {
   "cell_type": "markdown",
   "metadata": {},
   "source": [
    "## Defining the Quantum Circuits and the DQN"
   ]
  },
  {
   "cell_type": "code",
   "execution_count": 113,
   "metadata": {},
   "outputs": [],
   "source": [
    "def encode(n_qubits, inputs):\n",
    "    for wire in range(n_qubits):\n",
    "        qml.RX(inputs[wire], wires=wire)\n",
    "\n",
    "\n",
    "def layer(n_qubits, y_weight, z_weight):\n",
    "    for wire, y_weight in enumerate(y_weight):\n",
    "        qml.RY(y_weight, wires=wire)\n",
    "    for wire, z_weight in enumerate(z_weight):\n",
    "        qml.RZ(z_weight, wires=wire)\n",
    "    for wire in range(n_qubits):\n",
    "        qml.CZ(wires=[wire, (wire + 1) % n_qubits])\n",
    "\n",
    "\n",
    "def measure(n_qubits):\n",
    "    return [\n",
    "        qml.expval(qml.PauliZ(0) @ qml.PauliZ(1)),\n",
    "        qml.expval(qml.PauliZ(2) @ qml.PauliZ(3))\n",
    "    ]\n",
    "\n",
    "\n",
    "def get_model(n_qubits, n_layers, data_reupload):\n",
    "    dev = qml.device(\"default.qubit\", wires=n_qubits)\n",
    "    shapes = {\n",
    "        \"y_weights\": (n_layers, n_qubits),\n",
    "        \"z_weights\": (n_layers, n_qubits)\n",
    "    }\n",
    "\n",
    "    @qml.qnode(dev, interface='torch')\n",
    "    def circuit(inputs, y_weights, z_weights):\n",
    "        for layer_idx in range(n_layers):\n",
    "            if (layer_idx == 0) or data_reupload:\n",
    "                encode(n_qubits, inputs)\n",
    "            layer(n_qubits, y_weights[layer_idx], z_weights[layer_idx])\n",
    "        return measure(n_qubits)\n",
    "\n",
    "    model = qml.qnn.TorchLayer(circuit, shapes)\n",
    "\n",
    "    return model\n",
    "\n",
    "\n",
    "class QuantumNet(nn.Module):\n",
    "\n",
    "    def __init__(self, n_layers, w_input, w_output, data_reupload = True):\n",
    "        super(QuantumNet, self).__init__()\n",
    "        self.n_qubits = 4\n",
    "        self.n_actions = 2\n",
    "        self.data_reupload = data_reupload\n",
    "        self.q_layers = get_model(n_qubits=self.n_qubits,\n",
    "                                  n_layers=n_layers,\n",
    "                                  data_reupload=data_reupload)\n",
    "        if w_input:\n",
    "            self.w_input = Parameter(torch.Tensor(self.n_qubits))\n",
    "            nn.init.normal_(self.w_input, mean=0.)\n",
    "        else:\n",
    "            self.register_parameter('w_input', None)\n",
    "        if w_output:\n",
    "            self.w_output = Parameter(torch.Tensor(self.n_actions))\n",
    "            nn.init.normal_(self.w_output, mean=90.)\n",
    "        else:\n",
    "            self.register_parameter('w_output', None)\n",
    "\n",
    "    def forward(self, inputs):\n",
    "        if self.w_input is not None:\n",
    "            inputs = inputs * self.w_input\n",
    "        inputs = torch.atan(inputs)\n",
    "        outputs = self.q_layers(inputs)\n",
    "        outputs = (1 + outputs) / 2\n",
    "        if self.w_output is not None:\n",
    "            outputs = outputs * self.w_output\n",
    "        else:\n",
    "            outputs = 90 * outputs\n",
    "        return outputs"
   ]
  },
  {
   "cell_type": "code",
   "execution_count": 114,
   "metadata": {},
   "outputs": [],
   "source": [
    "env = gym.make(\"CartPole-v1\")"
   ]
  },
  {
   "cell_type": "code",
   "execution_count": 115,
   "metadata": {},
   "outputs": [],
   "source": [
    "device = torch.device(\"cpu\")"
   ]
  },
  {
   "cell_type": "code",
   "execution_count": 116,
   "metadata": {},
   "outputs": [
    {
     "name": "stdout",
     "output_type": "stream",
     "text": [
      "OrderedDict([('w_input', tensor([-0.0675, -0.0233,  2.1304,  0.3109])), ('w_output', tensor([102.4290, 101.6808])), ('q_layers.y_weights', tensor([[1.8979, 0.9439, 0.1321, 3.4829],\n",
      "        [5.1669, 0.7550, 2.7817, 1.6648],\n",
      "        [1.2001, 0.8215, 3.4144, 2.0073],\n",
      "        [1.7737, 3.5922, 3.1793, 4.3895],\n",
      "        [0.7004, 3.7127, 6.2669, 2.4820]])), ('q_layers.z_weights', tensor([[ 3.3732,  1.5915,  2.3775,  2.1786],\n",
      "        [ 4.6642,  1.2701,  6.7394, -0.0310],\n",
      "        [ 0.3916,  6.8138, -1.0576,  2.5492],\n",
      "        [ 3.6524,  0.0221,  2.1502,  3.0487],\n",
      "        [ 0.5994,  3.0209,  3.1120,  5.0410]]))])\n"
     ]
    }
   ],
   "source": [
    "dicts = torch.load(\"cartnet.pt\")\n",
    "print(dicts)"
   ]
  },
  {
   "cell_type": "code",
   "execution_count": 117,
   "metadata": {},
   "outputs": [
    {
     "data": {
      "text/plain": [
       "\"from collections import OrderedDict\\n \\nnew_dict = OrderedDict([\\n    ('q_layers.y_weights', dicts['q_layers.y_weights']),\\n    ('q_layers.z_weights', dicts['q_layers.z_weights'])\\n])\\nprint(new_dict)\\n\\nw_input = dicts['w_input']\\nw_output = dicts['w_output']\""
      ]
     },
     "execution_count": 117,
     "metadata": {},
     "output_type": "execute_result"
    }
   ],
   "source": [
    "\"\"\"from collections import OrderedDict\n",
    " \n",
    "new_dict = OrderedDict([\n",
    "    ('q_layers.y_weights', dicts['q_layers.y_weights']),\n",
    "    ('q_layers.z_weights', dicts['q_layers.z_weights'])\n",
    "])\n",
    "print(new_dict)\n",
    "\n",
    "w_input = dicts['w_input']\n",
    "w_output = dicts['w_output']\"\"\""
   ]
  },
  {
   "cell_type": "code",
   "execution_count": 118,
   "metadata": {},
   "outputs": [],
   "source": [
    "#print(w_input)"
   ]
  },
  {
   "cell_type": "code",
   "execution_count": 119,
   "metadata": {},
   "outputs": [
    {
     "data": {
      "text/plain": [
       "<All keys matched successfully>"
      ]
     },
     "execution_count": 119,
     "metadata": {},
     "output_type": "execute_result"
    }
   ],
   "source": [
    "model = QuantumNet(5, True, True)\n",
    "model.load_state_dict(dicts)"
   ]
  },
  {
   "cell_type": "code",
   "execution_count": 120,
   "metadata": {},
   "outputs": [],
   "source": [
    "model = model.to(device)"
   ]
  },
  {
   "cell_type": "markdown",
   "metadata": {},
   "source": [
    "## Function for testing the Agent"
   ]
  },
  {
   "cell_type": "code",
   "execution_count": 121,
   "metadata": {},
   "outputs": [],
   "source": [
    "def evaluate_agent(env, model, episodes):\n",
    "    episode_steps = []\n",
    "    episode_reward = []\n",
    "\n",
    "    for _ in range(episodes):\n",
    "        state,_ = env.reset()\n",
    "        done = False\n",
    "        episode_steps.append(0)\n",
    "        episode_reward.append(0)\n",
    "        while not done:\n",
    "            state = torch.FloatTensor(state).to(device)\n",
    "            q_values = model.eval()(state)\n",
    "            _, action = torch.max(q_values, dim=0)\n",
    "            action =  int(action.item())\n",
    "            next_state, reward, terminated, truncated ,_= env.step(action)\n",
    "            done = terminated or truncated\n",
    "            state = next_state\n",
    "            episode_steps[-1] += 1\n",
    "            episode_reward[-1] += reward\n",
    "\n",
    "    env.close()\n",
    "    val = [episode_steps, episode_reward]\n",
    "    episode_steps = np.mean(episode_steps)\n",
    "    episode_reward = np.mean(episode_reward)\n",
    "    return ({'steps': episode_steps, 'reward': episode_reward},val)\n"
   ]
  },
  {
   "cell_type": "markdown",
   "metadata": {},
   "source": [
    "## Testing the agent"
   ]
  },
  {
   "cell_type": "code",
   "execution_count": 122,
   "metadata": {},
   "outputs": [],
   "source": [
    "dicts, array = evaluate_agent(env, model, 5)"
   ]
  },
  {
   "cell_type": "code",
   "execution_count": 123,
   "metadata": {},
   "outputs": [
    {
     "name": "stdout",
     "output_type": "stream",
     "text": [
      "[[123, 210, 183, 128, 194], [123.0, 210.0, 183.0, 128.0, 194.0]]\n"
     ]
    }
   ],
   "source": [
    "print(array)"
   ]
  },
  {
   "cell_type": "code",
   "execution_count": 124,
   "metadata": {},
   "outputs": [],
   "source": [
    "steps, rewards = array"
   ]
  },
  {
   "cell_type": "code",
   "execution_count": 125,
   "metadata": {},
   "outputs": [],
   "source": [
    "import matplotlib.pyplot as plt\n",
    "\n",
    "episodes = [1, 2, 3, 4, 5]"
   ]
  },
  {
   "cell_type": "code",
   "execution_count": 126,
   "metadata": {},
   "outputs": [
    {
     "data": {
      "text/plain": [
       "Text(0, 0.5, 'Reward')"
      ]
     },
     "execution_count": 126,
     "metadata": {},
     "output_type": "execute_result"
    },
    {
     "data": {
      "image/png": "[encoded data removed]",
      "text/plain": [
       "<Figure size 1000x500 with 1 Axes>"
      ]
     },
     "metadata": {},
     "output_type": "display_data"
    }
   ],
   "source": [
    "plt.figure(figsize=(10, 5))\n",
    "plt.subplot(1, 1, 1)  # 1 row, 2 columns, plot 1\n",
    "plt.plot(episodes, rewards, marker='o')\n",
    "plt.title('Reward vs. Episode')\n",
    "plt.xlabel('Episode')\n",
    "plt.ylabel('Reward')"
   ]
  },
  {
   "cell_type": "code",
   "execution_count": 127,
   "metadata": {},
   "outputs": [
    {
     "data": {
      "text/plain": [
       "<Figure size 640x480 with 0 Axes>"
      ]
     },
     "metadata": {},
     "output_type": "display_data"
    }
   ],
   "source": [
    "# Adjust layout to prevent overlapping\n",
    "plt.tight_layout()\n",
    "\n",
    "# Show the plots\n",
    "plt.show()"
   ]
  },
  {
   "cell_type": "code",
   "execution_count": 128,
   "metadata": {},
   "outputs": [
    {
     "name": "stdout",
     "output_type": "stream",
     "text": [
      "{'steps': 167.6, 'reward': 167.6}\n"
     ]
    }
   ],
   "source": [
    "print(dicts)"
   ]
  }
 ],
 "metadata": {
  "kernelspec": {
   "display_name": "gyenv",
   "language": "python",
   "name": "python3"
  },
  "language_info": {
   "codemirror_mode": {
    "name": "ipython",
    "version": 3
   },
   "file_extension": ".py",
   "mimetype": "text/x-python",
   "name": "python",
   "nbconvert_exporter": "python",
   "pygments_lexer": "ipython3",
   "version": "3.10.8"
  }
 },
 "nbformat": 4,
 "nbformat_minor": 2
}
