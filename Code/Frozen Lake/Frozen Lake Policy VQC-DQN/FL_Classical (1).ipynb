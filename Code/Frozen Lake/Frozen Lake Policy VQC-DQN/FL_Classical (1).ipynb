{
  "metadata": {
    "kernelspec": {
      "language": "python",
      "display_name": "Python 3",
      "name": "python3"
    },
    "language_info": {
      "name": "python",
      "version": "3.10.12",
      "mimetype": "text/x-python",
      "codemirror_mode": {
        "name": "ipython",
        "version": 3
      },
      "pygments_lexer": "ipython3",
      "nbconvert_exporter": "python",
      "file_extension": ".py"
    },
    "colab": {
      "provenance": []
    }
  },
  "nbformat_minor": 0,
  "nbformat": 4,
  "cells": [
    {
      "cell_type": "code",
      "source": [
        "# For tips on running notebooks in Google Colab, see\n",
        "# https://pytorch.org/tutorials/beginner/colab\n",
        "%matplotlib inline"
      ],
      "metadata": {
        "id": "x19dKq8EbzWb",
        "execution": {
          "iopub.status.busy": "2023-11-13T09:04:02.826407Z",
          "iopub.execute_input": "2023-11-13T09:04:02.826937Z",
          "iopub.status.idle": "2023-11-13T09:04:02.834796Z",
          "shell.execute_reply.started": "2023-11-13T09:04:02.826894Z",
          "shell.execute_reply": "2023-11-13T09:04:02.833677Z"
        },
        "trusted": true,
        "colab": {
          "base_uri": "https://localhost:8080/"
        },
        "outputId": "af195ccb-bd39-4d16-ce5f-b320ff636d5d"
      },
      "execution_count": null,
      "outputs": [
        {
          "output_type": "stream",
          "name": "stderr",
          "text": [
            "/usr/local/lib/python3.10/dist-packages/ipykernel/ipkernel.py:283: DeprecationWarning: `should_run_async` will not call `transform_cell` automatically in the future. Please pass the result to `transformed_cell` argument and any exception that happen during thetransform in `preprocessing_exc_tuple` in IPython 7.17 and above.\n",
            "  and should_run_async(code)\n"
          ]
        }
      ]
    },
    {
      "cell_type": "code",
      "source": [
        "\"\"\"%%bash\n",
        "pip3 install pennylane==0.28.0\"\"\""
      ],
      "metadata": {
        "id": "lcjnV3aV1eZ8",
        "outputId": "fb82cce1-a1ad-47b3-d5fe-27dda42852eb",
        "execution": {
          "iopub.status.busy": "2023-11-13T09:04:02.837430Z",
          "iopub.execute_input": "2023-11-13T09:04:02.838305Z",
          "iopub.status.idle": "2023-11-13T09:04:16.452652Z",
          "shell.execute_reply.started": "2023-11-13T09:04:02.838266Z",
          "shell.execute_reply": "2023-11-13T09:04:16.451076Z"
        },
        "trusted": true,
        "colab": {
          "base_uri": "https://localhost:8080/",
          "height": 35
        }
      },
      "execution_count": null,
      "outputs": [
        {
          "output_type": "execute_result",
          "data": {
            "text/plain": [
              "'%%bash\\npip3 install pennylane==0.28.0'"
            ],
            "application/vnd.google.colaboratory.intrinsic+json": {
              "type": "string"
            }
          },
          "metadata": {},
          "execution_count": 20
        }
      ]
    },
    {
      "cell_type": "code",
      "source": [
        "\"\"\"%%bash\n",
        "pip3 install gymnasium\"\"\""
      ],
      "metadata": {
        "id": "xXiT9yhtbzWg",
        "outputId": "7d9465fc-f4a4-492d-c52e-a8c9bc56ba4e",
        "execution": {
          "iopub.status.busy": "2023-11-13T09:04:16.454197Z",
          "iopub.execute_input": "2023-11-13T09:04:16.454573Z",
          "iopub.status.idle": "2023-11-13T09:04:16.462696Z",
          "shell.execute_reply.started": "2023-11-13T09:04:16.454538Z",
          "shell.execute_reply": "2023-11-13T09:04:16.461193Z"
        },
        "trusted": true,
        "colab": {
          "base_uri": "https://localhost:8080/",
          "height": 35
        }
      },
      "execution_count": null,
      "outputs": [
        {
          "output_type": "execute_result",
          "data": {
            "text/plain": [
              "'%%bash\\npip3 install gymnasium'"
            ],
            "application/vnd.google.colaboratory.intrinsic+json": {
              "type": "string"
            }
          },
          "metadata": {},
          "execution_count": 21
        }
      ]
    },
    {
      "cell_type": "code",
      "source": [
        "import gym\n",
        "import math\n",
        "import random\n",
        "import matplotlib\n",
        "import matplotlib.pyplot as plt\n",
        "from collections import namedtuple, deque\n",
        "from itertools import count\n",
        "import numpy as np\n",
        "\n",
        "import torch\n",
        "import torch.nn as nn\n",
        "import torch.optim as optim\n",
        "import torch.nn.functional as F\n",
        "\n",
        "import gym.spaces\n",
        "from gym.envs.registration import register\n",
        "from gym.envs import toy_text\n",
        "\n",
        "\n",
        "class FL(gym.ObservationWrapper):\n",
        "    def __init__(self, env):\n",
        "        super().__init__(env)\n",
        "        self.observation_space = gym.spaces.MultiBinary(16)\n",
        "\n",
        "    def observation(self, obs):\n",
        "        obsi = np.zeros(16)\n",
        "        obsi[obs] = 1\n",
        "        return obsi\n",
        "\n",
        "env = gym.make(\"FrozenLake-v1\", is_slippery = False)\n",
        "env = FL(env)\n",
        "\n",
        "# set up matplotlib\n",
        "is_ipython = 'inline' in matplotlib.get_backend()\n",
        "if is_ipython:\n",
        "    from IPython import display\n",
        "\n",
        "plt.ion()\n",
        "\n",
        "# if GPU is to be used\n",
        "device = torch.device(\"cpu\")"
      ],
      "metadata": {
        "id": "9pqspmy0bzWh",
        "execution": {
          "iopub.status.busy": "2023-11-13T09:04:16.466390Z",
          "iopub.execute_input": "2023-11-13T09:04:16.466884Z",
          "iopub.status.idle": "2023-11-13T09:04:16.480340Z",
          "shell.execute_reply.started": "2023-11-13T09:04:16.466837Z",
          "shell.execute_reply": "2023-11-13T09:04:16.478875Z"
        },
        "trusted": true,
        "colab": {
          "base_uri": "https://localhost:8080/"
        },
        "outputId": "bb40cca1-2457-4739-d17f-1b14ceeae841"
      },
      "execution_count": null,
      "outputs": [
        {
          "output_type": "stream",
          "name": "stderr",
          "text": [
            "/usr/local/lib/python3.10/dist-packages/gym/core.py:317: DeprecationWarning: \u001b[33mWARN: Initializing wrapper in old step API which returns one bool instead of two. It is recommended to set `new_step_api=True` to use new step API. This will be the default behaviour in future.\u001b[0m\n",
            "  deprecation(\n",
            "/usr/local/lib/python3.10/dist-packages/gym/wrappers/step_api_compatibility.py:39: DeprecationWarning: \u001b[33mWARN: Initializing environment in old step API which returns one bool instead of two. It is recommended to set `new_step_api=True` to use new step API. This will be the default behaviour in future.\u001b[0m\n",
            "  deprecation(\n"
          ]
        }
      ]
    },
    {
      "cell_type": "code",
      "source": [
        "Transition = namedtuple('Transition',\n",
        "                        ('state', 'action', 'next_state', 'reward'))\n",
        "\n",
        "\n",
        "class ReplayMemory(object):\n",
        "\n",
        "    def __init__(self, capacity):\n",
        "        self.memory = deque([], maxlen=capacity)\n",
        "\n",
        "    def push(self, *args):\n",
        "        \"\"\"Save a transition\"\"\"\n",
        "        self.memory.append(Transition(*args))\n",
        "\n",
        "    def sample(self, batch_size):\n",
        "        return random.sample(self.memory, batch_size)\n",
        "\n",
        "    def __len__(self):\n",
        "        return len(self.memory)"
      ],
      "metadata": {
        "id": "M04d2DjhbzWh",
        "execution": {
          "iopub.status.busy": "2023-11-13T09:04:16.482469Z",
          "iopub.execute_input": "2023-11-13T09:04:16.483000Z",
          "iopub.status.idle": "2023-11-13T09:04:16.494730Z",
          "shell.execute_reply.started": "2023-11-13T09:04:16.482954Z",
          "shell.execute_reply": "2023-11-13T09:04:16.493287Z"
        },
        "trusted": true
      },
      "execution_count": null,
      "outputs": []
    },
    {
      "cell_type": "code",
      "source": [
        "class DQN(nn.Module):\n",
        "\n",
        "    def __init__(self, n_observations, n_actions):\n",
        "        super(DQN, self).__init__()\n",
        "        self.layer1 = nn.Linear(n_observations, 128)\n",
        "        self.layer2 = nn.Linear(128, 128)\n",
        "        self.layer3 = nn.Linear(128, n_actions)\n",
        "\n",
        "    # Called with either one element to determine next action, or a batch\n",
        "    # during optimization. Returns tensor([[left0exp,right0exp]...]).\n",
        "    def forward(self, x):\n",
        "        x = F.relu(self.layer1(x))\n",
        "        x = F.relu(self.layer2(x))\n",
        "        return self.layer3(x)"
      ],
      "metadata": {
        "id": "x0sDllYAbzWi",
        "execution": {
          "iopub.status.busy": "2023-11-13T09:04:16.496340Z",
          "iopub.execute_input": "2023-11-13T09:04:16.497775Z",
          "iopub.status.idle": "2023-11-13T09:04:16.519302Z",
          "shell.execute_reply.started": "2023-11-13T09:04:16.497721Z",
          "shell.execute_reply": "2023-11-13T09:04:16.517572Z"
        },
        "trusted": true
      },
      "execution_count": null,
      "outputs": []
    },
    {
      "cell_type": "code",
      "source": [
        "# BATCH_SIZE is the number of transitions sampled from the replay buffer\n",
        "# GAMMA is the discount factor as mentioned in the previous section\n",
        "# EPS_START is the starting value of epsilon\n",
        "# EPS_END is the final value of epsilon\n",
        "# EPS_DECAY controls the rate of exponential decay of epsilon, higher means a slower decay\n",
        "# TAU is the update rate of the target network\n",
        "# LR is the learning rate of the ``AdamW`` optimizer\n",
        "BATCH_SIZE = 16\n",
        "GAMMA = 0.95\n",
        "EPS_START = 1.\n",
        "EPS_END = 0.01\n",
        "EPS_DECAY = 0.99\n",
        "TAU = 0.01\n",
        "LR = 1e-3\n",
        "\n",
        "\n",
        "# Get number of actions from gym action space\n",
        "n_actions = env.action_space.n\n",
        "# Get the number of state observations\n",
        "state = env.reset()\n",
        "n_observations = len(state)\n",
        "\n",
        "\n",
        "policy_net = DQN(16, 4).to(device)\n",
        "target_net = DQN(16, 4).to(device)\n",
        "target_net.load_state_dict(policy_net.state_dict())\n",
        "\n",
        "optimizer = optim.RMSprop(policy_net.parameters(), lr=LR)\n",
        "memory = ReplayMemory(10000)\n",
        "\n",
        "\n",
        "steps_done = 0\n",
        "\n",
        "\n",
        "def select_action(state):\n",
        "    global steps_done\n",
        "    sample = random.random()\n",
        "    \"\"\"eps_threshold = EPS_END + (EPS_START - EPS_END) * \\\n",
        "        math.exp(-1. * steps_done / EPS_DECAY)\"\"\"\n",
        "    eps_threshold = max(\n",
        "            EPS_END, EPS_END +\n",
        "            (EPS_START - EPS_END) *\n",
        "            EPS_DECAY**steps_done)\n",
        "    steps_done += 1\n",
        "    if sample > eps_threshold:\n",
        "        with torch.no_grad():\n",
        "            # t.max(1) will return the largest column value of each row.\n",
        "            # second column on max result is index of where max element was\n",
        "            # found, so we pick action with the larger expected reward.\n",
        "            return policy_net(state).max(1)[1].view(1, 1)\n",
        "    else:\n",
        "        return torch.tensor([[env.action_space.sample()]], device=device, dtype=torch.long)\n",
        "\n",
        "\n",
        "episode_rewards = []\n",
        "\n",
        "\n",
        "def plot_durations(show_result=False):\n",
        "    plt.figure(1)\n",
        "    rewards_t = torch.tensor(episode_rewards, dtype=torch.float)\n",
        "    if show_result:\n",
        "        plt.title('Result')\n",
        "    else:\n",
        "        plt.clf()\n",
        "        plt.title('Training...')\n",
        "    plt.xlabel('Episode')\n",
        "    plt.ylabel('Duration')\n",
        "    plt.plot(rewards_t.numpy())\n",
        "    # Take 100 episode averages and plot them too\n",
        "    if len(rewards_t) >= 10:\n",
        "        means = rewards_t.unfold(0, 10, 1).mean(1).view(-1)\n",
        "        means = torch.cat((torch.zeros(9), means))\n",
        "        plt.plot(means.numpy())\n",
        "\n",
        "    plt.pause(0.001)  # pause a bit so that plots are updated\n",
        "    if is_ipython:\n",
        "        if not show_result:\n",
        "            display.display(plt.gcf())\n",
        "            display.clear_output(wait=True)\n",
        "        else:\n",
        "            display.display(plt.gcf())"
      ],
      "metadata": {
        "id": "P1i4BzvlbzWj",
        "execution": {
          "iopub.status.busy": "2023-11-13T09:04:16.521330Z",
          "iopub.execute_input": "2023-11-13T09:04:16.521785Z",
          "iopub.status.idle": "2023-11-13T09:04:16.565571Z",
          "shell.execute_reply.started": "2023-11-13T09:04:16.521747Z",
          "shell.execute_reply": "2023-11-13T09:04:16.564089Z"
        },
        "trusted": true
      },
      "execution_count": null,
      "outputs": []
    },
    {
      "cell_type": "code",
      "source": [
        "def optimize_model():\n",
        "    #print(1)\n",
        "    if len(memory) < BATCH_SIZE:\n",
        "        return\n",
        "    transitions = memory.sample(BATCH_SIZE)\n",
        "    # Transpose the batch (see https://stackoverflow.com/a/19343/3343043 for\n",
        "    # detailed explanation). This converts batch-array of Transitions\n",
        "    # to Transition of batch-arrays.\n",
        "    batch = Transition(*zip(*transitions))\n",
        "\n",
        "    # Compute a mask of non-final states and concatenate the batch elements\n",
        "    # (a final state would've been the one after which simulation ended)\n",
        "    non_final_mask = torch.tensor(tuple(map(lambda s: s is not None,\n",
        "                                          batch.next_state)), device=device, dtype=torch.bool)\n",
        "    non_final_next_states = torch.cat([s for s in batch.next_state\n",
        "                                                if s is not None])\n",
        "    state_batch = torch.cat(batch.state)\n",
        "    action_batch = torch.cat(batch.action)\n",
        "    reward_batch = torch.cat(batch.reward)\n",
        "\n",
        "    # Compute Q(s_t, a) - the model computes Q(s_t), then we select the\n",
        "    # columns of actions taken. These are the actions which would've been taken\n",
        "    # for each batch state according to policy_net\n",
        "    #print(2)\n",
        "    state_action_values = policy_net(state_batch).gather(1, action_batch)\n",
        "    #print(3)\n",
        "    # Compute V(s_{t+1}) for all next states.\n",
        "    # Expected values of actions for non_final_next_states are computed based\n",
        "    # on the \"older\" target_net; selecting their best reward with max(1)[0].\n",
        "    # This is merged based on the mask, such that we'll have either the expected\n",
        "    # state value or 0 in case the state was final.\n",
        "    next_state_values = torch.zeros(BATCH_SIZE, device=device)\n",
        "    with torch.no_grad():\n",
        "        next_state_values[non_final_mask] = target_net(non_final_next_states).max(1)[0]\n",
        "    # Compute the expected Q values\n",
        "    #print(4)\n",
        "    expected_state_action_values = (next_state_values * GAMMA) + reward_batch\n",
        "    #print(5)\n",
        "\n",
        "    # Compute Huber loss\n",
        "    criterion = nn.SmoothL1Loss()\n",
        "    loss = criterion(state_action_values, expected_state_action_values.unsqueeze(1))\n",
        "    #print(6)\n",
        "\n",
        "    # Optimize the model\n",
        "    optimizer.zero_grad()\n",
        "    loss.backward()\n",
        "    #print(7)\n",
        "    # In-place gradient clipping\n",
        "    torch.nn.utils.clip_grad_value_(policy_net.parameters(), 10)\n",
        "    optimizer.step()"
      ],
      "metadata": {
        "id": "obe9akLsbzWk",
        "execution": {
          "iopub.status.busy": "2023-11-13T09:04:16.569037Z",
          "iopub.execute_input": "2023-11-13T09:04:16.569537Z",
          "iopub.status.idle": "2023-11-13T09:04:16.584473Z",
          "shell.execute_reply.started": "2023-11-13T09:04:16.569490Z",
          "shell.execute_reply": "2023-11-13T09:04:16.582949Z"
        },
        "trusted": true
      },
      "execution_count": null,
      "outputs": []
    },
    {
      "cell_type": "code",
      "source": [
        "num_episodes = 1000\n",
        "\n",
        "for i_episode in range(num_episodes):\n",
        "    # Initialize the environment and get it's state\n",
        "    state = env.reset()\n",
        "    state = torch.tensor(state, dtype=torch.float32, device=device).unsqueeze(0)\n",
        "    tot_rewards = 0\n",
        "    steps = 0\n",
        "    done = False\n",
        "    while not done:\n",
        "        action = select_action(state)\n",
        "        steps += 1\n",
        "        observation, reward, terminated, _ = env.step(action.item())\n",
        "        reward = torch.tensor([reward], device=device)\n",
        "        tot_rewards += reward\n",
        "        done = terminated\n",
        "\n",
        "        if done:\n",
        "            next_state = None\n",
        "        else:\n",
        "            next_state = torch.tensor(observation, dtype=torch.float32, device=device).unsqueeze(0)\n",
        "\n",
        "        # Store the transition in memory\n",
        "        memory.push(state, action, next_state, reward)\n",
        "\n",
        "        # Move to the next state\n",
        "        state = next_state\n",
        "\n",
        "        # Perform one step of the optimization (on the policy network)\n",
        "        if steps % 10 == 0:\n",
        "            optimize_model()\n",
        "\n",
        "        # Soft update of the target network's weights\n",
        "        # θ′ ← τ θ + (1 −τ )θ′\n",
        "        target_net_state_dict = target_net.state_dict()\n",
        "        policy_net_state_dict = policy_net.state_dict()\n",
        "        for key in policy_net_state_dict:\n",
        "            target_net_state_dict[key] = policy_net_state_dict[key]*TAU + target_net_state_dict[key]*(1-TAU)\n",
        "        target_net.load_state_dict(target_net_state_dict)\n",
        "\n",
        "        if done:\n",
        "            episode_rewards.append(tot_rewards)\n",
        "            plot_durations()\n",
        "            break\n",
        "    #print(f\"Episode {i_episode}, Rewards : {tot_rewards}\")\n",
        "\n",
        "print('Complete')\n",
        "plot_durations(show_result=True)\n",
        "plt.ioff()\n",
        "plt.show()"
      ],
      "metadata": {
        "id": "8fQ8e-v9bzWl",
        "outputId": "8b66fc24-eabf-4908-ebfe-671e5732eef4",
        "execution": {
          "iopub.status.busy": "2023-11-13T09:04:16.588674Z",
          "iopub.execute_input": "2023-11-13T09:04:16.589370Z",
          "iopub.status.idle": "2023-11-13T11:08:29.387511Z",
          "shell.execute_reply.started": "2023-11-13T09:04:16.589315Z",
          "shell.execute_reply": "2023-11-13T11:08:29.386218Z"
        },
        "trusted": true,
        "colab": {
          "base_uri": "https://localhost:8080/",
          "height": 524
        }
      },
      "execution_count": null,
      "outputs": [
        {
          "output_type": "stream",
          "name": "stdout",
          "text": [
            "Complete\n"
          ]
        },
        {
          "output_type": "display_data",
          "data": {
            "text/plain": [
              "<Figure size 640x480 with 1 Axes>"
            ],
            "image/png": "[encoded data removed]"
          },
          "metadata": {}
        },
        {
          "output_type": "display_data",
          "data": {
            "text/plain": [
              "<Figure size 640x480 with 0 Axes>"
            ]
          },
          "metadata": {}
        },
        {
          "output_type": "display_data",
          "data": {
            "text/plain": [
              "<Figure size 640x480 with 0 Axes>"
            ]
          },
          "metadata": {}
        }
      ]
    },
    {
      "cell_type": "code",
      "source": [
        "new_env = gym.make(\"FrozenLake-v1\", render_mode=\"rgb_array\", is_slippery = False)\n",
        "new_env = FL(new_env)"
      ],
      "metadata": {
        "id": "zHRxI801eqCN",
        "execution": {
          "iopub.status.busy": "2023-11-13T11:08:29.389633Z",
          "iopub.execute_input": "2023-11-13T11:08:29.390771Z",
          "iopub.status.idle": "2023-11-13T11:08:29.398737Z",
          "shell.execute_reply.started": "2023-11-13T11:08:29.390725Z",
          "shell.execute_reply": "2023-11-13T11:08:29.397223Z"
        },
        "trusted": true
      },
      "execution_count": null,
      "outputs": []
    },
    {
      "cell_type": "code",
      "source": [
        "\n",
        "\n",
        "for i_episode in range(10):\n",
        "    # Initialize the environment and get it's state\n",
        "    state = new_env.reset()\n",
        "    state = torch.tensor(state, dtype=torch.float32, device=device).unsqueeze(0)\n",
        "    test_rewards = 0\n",
        "    done = False\n",
        "    steps = 0\n",
        "    while not done:\n",
        "        action = select_action(state)\n",
        "        steps += 1\n",
        "        observation, reward, terminated, _ = new_env.step(action.item())\n",
        "        reward = torch.tensor([reward], device=device)\n",
        "        test_rewards += reward\n",
        "        done = terminated\n",
        "\n",
        "        if done:\n",
        "            break\n",
        "        else:\n",
        "            next_state = torch.tensor(observation, dtype=torch.float32, device=device).unsqueeze(0)\n",
        "\n",
        "        state = next_state\n",
        "\n",
        "    print(f\"Episode : {i_episode}, Reward = {test_rewards}, Steps = {steps}\")\n",
        "\n",
        "\n",
        "new_env.close()\n"
      ],
      "metadata": {
        "id": "UFE7mEWveBVj",
        "execution": {
          "iopub.status.busy": "2023-11-13T11:08:29.400567Z",
          "iopub.execute_input": "2023-11-13T11:08:29.401015Z",
          "iopub.status.idle": "2023-11-13T11:09:08.019934Z",
          "shell.execute_reply.started": "2023-11-13T11:08:29.400977Z",
          "shell.execute_reply": "2023-11-13T11:09:08.018780Z"
        },
        "trusted": true,
        "colab": {
          "base_uri": "https://localhost:8080/"
        },
        "outputId": "fbabf07f-8d55-47b4-fcf7-ba85b5d951cf"
      },
      "execution_count": null,
      "outputs": [
        {
          "output_type": "stream",
          "name": "stdout",
          "text": [
            "Episode : 0, Reward = tensor([1.]), Steps = 6\n",
            "Episode : 1, Reward = tensor([1.]), Steps = 6\n",
            "Episode : 2, Reward = tensor([1.]), Steps = 6\n",
            "Episode : 3, Reward = tensor([1.]), Steps = 6\n",
            "Episode : 4, Reward = tensor([1.]), Steps = 6\n",
            "Episode : 5, Reward = tensor([1.]), Steps = 6\n",
            "Episode : 6, Reward = tensor([1.]), Steps = 6\n",
            "Episode : 7, Reward = tensor([1.]), Steps = 6\n",
            "Episode : 8, Reward = tensor([1.]), Steps = 6\n",
            "Episode : 9, Reward = tensor([1.]), Steps = 6\n"
          ]
        }
      ]
    },
    {
      "cell_type": "code",
      "source": [
        "torch.save(policy_net.state_dict(), 'p_state_dict.pt')\n",
        "torch.save(target_net.state_dict(), 't_state_dict.pt')\n",
        "\n",
        "\"\"\"import pickle\n",
        "\n",
        "file = open('agents3', 'wb')\n",
        "arr = [trainer.exploration_decay, trainer.exploration_initial_eps, trainer.exploration_final_eps]\n",
        "\"\"\""
      ],
      "metadata": {
        "execution": {
          "iopub.status.busy": "2023-11-13T11:10:51.055262Z",
          "iopub.execute_input": "2023-11-13T11:10:51.056665Z",
          "iopub.status.idle": "2023-11-13T11:10:51.068807Z",
          "shell.execute_reply.started": "2023-11-13T11:10:51.056606Z",
          "shell.execute_reply": "2023-11-13T11:10:51.067185Z"
        },
        "trusted": true,
        "colab": {
          "base_uri": "https://localhost:8080/",
          "height": 53
        },
        "id": "MaLnyd6mH5Fk",
        "outputId": "8c4dca65-d7d3-445e-f57e-3e9d094dac17"
      },
      "execution_count": null,
      "outputs": [
        {
          "output_type": "execute_result",
          "data": {
            "text/plain": [
              "\"import pickle\\n\\nfile = open('agents3', 'wb')\\narr = [trainer.exploration_decay, trainer.exploration_initial_eps, trainer.exploration_final_eps]\\n\""
            ],
            "application/vnd.google.colaboratory.intrinsic+json": {
              "type": "string"
            }
          },
          "metadata": {},
          "execution_count": 30
        }
      ]
    }
  ]
}