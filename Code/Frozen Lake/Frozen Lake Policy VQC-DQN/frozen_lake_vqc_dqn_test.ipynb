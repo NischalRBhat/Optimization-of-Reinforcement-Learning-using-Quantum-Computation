{
 "cells": [
  {
   "cell_type": "markdown",
   "metadata": {},
   "source": [
    "## Importing Librarires"
   ]
  },
  {
   "cell_type": "code",
   "execution_count": 1,
   "metadata": {},
   "outputs": [
    {
     "name": "stderr",
     "output_type": "stream",
     "text": [
      "c:\\Users\\Dell\\miniconda3\\envs\\gyenv\\lib\\site-packages\\tqdm\\auto.py:21: TqdmWarning: IProgress not found. Please update jupyter and ipywidgets. See https://ipywidgets.readthedocs.io/en/stable/user_install.html\n",
      "  from .autonotebook import tqdm as notebook_tqdm\n"
     ]
    }
   ],
   "source": [
    "import gym\n",
    "import numpy as np\n",
    "import pennylane as qml\n",
    "import torch\n",
    "import torch.nn as nn\n",
    "from torch.nn.parameter import Parameter\n",
    "import gym.spaces\n",
    "from gym.envs.registration import register\n",
    "from gym.envs import toy_text\n",
    "import torch.nn.functional as F\n",
    "from torch.distributions import Categorical"
   ]
  },
  {
   "cell_type": "markdown",
   "metadata": {},
   "source": [
    "## Binary Wrapper for Frozen Lake"
   ]
  },
  {
   "cell_type": "code",
   "execution_count": 2,
   "metadata": {},
   "outputs": [],
   "source": [
    "class BinaryWrapper(gym.ObservationWrapper):\n",
    "    def __init__(self, env):\n",
    "        super(BinaryWrapper, self).__init__(env)\n",
    "        self.bits = int(np.ceil(np.log2(env.observation_space.n)))\n",
    "        self.observation_space = gym.spaces.MultiBinary(self.bits)\n",
    "\n",
    "    def observation(self, obs):\n",
    "        binary = map(float, \"{0:b}\".format(int(obs)).zfill(self.bits))\n",
    "        return np.array(list(binary))\n"
   ]
  },
  {
   "cell_type": "markdown",
   "metadata": {},
   "source": [
    "## Reward Shaping for Frozen Lake"
   ]
  },
  {
   "cell_type": "code",
   "execution_count": 3,
   "metadata": {},
   "outputs": [],
   "source": [
    "class ModifiedFL(toy_text.frozen_lake.FrozenLakeEnv):\n",
    "\tdef __init__(self, **kwargs):\n",
    "\t\tsuper(ModifiedFL, self).__init__(**kwargs)\n",
    "\n",
    "\t\tself.nS = self.nrow * self.ncol\n",
    "\t\tself.nA = 4\n",
    "\t\tfor state in range(self.nS): # for all states\n",
    "\t\t\tfor action in range(self.nA): # for all actions\n",
    "\t\t\t\tmy_transitions = []\n",
    "\t\t\t\tfor (prob, next_state, _, is_terminal) in self.P[state][action]:\n",
    "\t\t\t\t\trow = next_state // self.ncol\n",
    "\t\t\t\t\tcol = next_state - row * self.ncol\n",
    "\t\t\t\t\ttile_type = self.desc[row, col]\n",
    "\t\t\t\t\tif tile_type == b'H':\n",
    "\t\t\t\t\t\treward = -1.0\n",
    "\t\t\t\t\telif tile_type == b'G':\n",
    "\t\t\t\t\t\treward = 10.\n",
    "\t\t\t\t\telse:\n",
    "\t\t\t\t\t\treward = -0.05\n",
    "\n",
    "\t\t\t\t\tmy_transitions.append((prob, next_state, reward, is_terminal))\n",
    "\t\t\t\tself.P[state][action] = my_transitions"
   ]
  },
  {
   "cell_type": "markdown",
   "metadata": {},
   "source": [
    "## Defining the VQC Circuit and Model"
   ]
  },
  {
   "cell_type": "code",
   "execution_count": 4,
   "metadata": {},
   "outputs": [],
   "source": [
    "def encode(n_qubits, inputs):\n",
    "    for wire in range(n_qubits):\n",
    "        qml.RX(inputs[wire], wires=wire)\n",
    "\n",
    "\n",
    "def layer(n_qubits, y_weight, z_weight):\n",
    "    for wire, y_weight in enumerate(y_weight):\n",
    "        qml.RY(y_weight, wires=wire)\n",
    "    for wire, z_weight in enumerate(z_weight):\n",
    "        qml.RZ(z_weight, wires=wire)\n",
    "    for wire in range(n_qubits):\n",
    "        qml.CZ(wires=[wire, (wire + 1) % n_qubits])\n",
    "\n",
    "\n",
    "def measure(n_qubits):\n",
    "    return [qml.expval(qml.PauliZ(wire)) for wire in range(n_qubits)]\n",
    "\n",
    "\n",
    "def get_model(n_qubits, n_layers, data_reupload):\n",
    "    dev = qml.device(\"default.qubit\", wires=n_qubits)\n",
    "    shapes = {\n",
    "        \"y_weights\": (n_layers, n_qubits),\n",
    "        \"z_weights\": (n_layers, n_qubits)\n",
    "    }\n",
    "\n",
    "    @qml.qnode(dev, interface='torch')\n",
    "    def circuit(inputs, y_weights, z_weights):\n",
    "        for layer_idx in range(n_layers):\n",
    "            if (layer_idx == 0) or data_reupload:\n",
    "                encode(n_qubits, inputs)\n",
    "            layer(n_qubits, y_weights[layer_idx], z_weights[layer_idx])\n",
    "        return measure(n_qubits)\n",
    "\n",
    "    model = qml.qnn.TorchLayer(circuit, shapes)\n",
    "\n",
    "    return model\n",
    "\n",
    "\n",
    "class QuantumNet(nn.Module):\n",
    "    def __init__(self, n_layers):\n",
    "        super(QuantumNet, self).__init__()\n",
    "        self.n_qubits = 4\n",
    "        self.n_actions = 4\n",
    "        self.q_layers = get_model(n_qubits=self.n_qubits,\n",
    "                                  n_layers=n_layers,\n",
    "                                  data_reupload=False)\n",
    "\n",
    "    def forward(self, inputs):\n",
    "        inputs = inputs * np.pi\n",
    "        outputs = self.q_layers(inputs)\n",
    "        outputs = (1 + outputs) / 2\n",
    "        return outputs\n"
   ]
  },
  {
   "cell_type": "markdown",
   "metadata": {},
   "source": [
    "## Registering the New Environment"
   ]
  },
  {
   "cell_type": "code",
   "execution_count": 5,
   "metadata": {},
   "outputs": [],
   "source": [
    "register(\n",
    "        id='FrozenLake-VA', # name given to this new environment\n",
    "        entry_point=__name__+':ModifiedFL', # env entry point\n",
    "        kwargs={'map_name': '4x4', 'is_slippery': False} # argument passed to the env\n",
    ")\n",
    "env = gym.make('FrozenLake-VA')\n",
    "env = BinaryWrapper(env)\n"
   ]
  },
  {
   "cell_type": "code",
   "execution_count": 6,
   "metadata": {},
   "outputs": [],
   "source": [
    "device = torch.device(\"cpu\")"
   ]
  },
  {
   "cell_type": "code",
   "execution_count": 7,
   "metadata": {},
   "outputs": [
    {
     "name": "stdout",
     "output_type": "stream",
     "text": [
      "OrderedDict([('q_layers.y_weights', tensor([[ 4.3494,  1.5357, -0.1915,  0.8213],\n",
      "        [ 3.8251,  5.3967,  4.4317,  3.8597],\n",
      "        [ 2.0861,  4.4949,  4.2629,  2.2216],\n",
      "        [ 2.3797,  1.1265,  0.8281,  4.9177],\n",
      "        [ 1.7534,  5.2100,  4.6772,  2.4619]])), ('q_layers.z_weights', tensor([[ 0.2604,  2.1938,  6.2150,  2.6293],\n",
      "        [ 3.1144,  0.6681,  1.9429, -0.5273],\n",
      "        [ 0.7068,  1.7599,  2.9676,  0.2450],\n",
      "        [ 4.9197,  2.3943,  3.1300,  4.1747],\n",
      "        [ 2.1759,  3.5181,  1.7836,  0.5591]]))])\n"
     ]
    }
   ],
   "source": [
    "dicts = torch.load(\"net.pt\")\n",
    "print(dicts)"
   ]
  },
  {
   "cell_type": "code",
   "execution_count": 8,
   "metadata": {},
   "outputs": [
    {
     "data": {
      "text/plain": [
       "<All keys matched successfully>"
      ]
     },
     "execution_count": 8,
     "metadata": {},
     "output_type": "execute_result"
    }
   ],
   "source": [
    "model = QuantumNet(5)\n",
    "model.load_state_dict(torch.load(\"net.pt\"))"
   ]
  },
  {
   "cell_type": "code",
   "execution_count": 9,
   "metadata": {},
   "outputs": [],
   "source": [
    "model = model.to(device)"
   ]
  },
  {
   "cell_type": "markdown",
   "metadata": {},
   "source": [
    "## Testing the Agent"
   ]
  },
  {
   "cell_type": "code",
   "execution_count": 10,
   "metadata": {},
   "outputs": [],
   "source": [
    "def evaluate_agent(env, model, episodes):\n",
    "    episode_steps = []\n",
    "    episode_reward = []\n",
    "\n",
    "    for _ in range(episodes):\n",
    "        state,_ = env.reset()\n",
    "        done = False\n",
    "        episode_steps.append(0)\n",
    "        episode_reward.append(0)\n",
    "        while not done:\n",
    "            state = torch.FloatTensor(state).to(device)\n",
    "            q_values = model.eval()(state)\n",
    "            _, action = torch.max(q_values, dim=0)\n",
    "            action =  int(action.item())\n",
    "            next_state, reward, terminated, truncated ,_= env.step(action)\n",
    "            done = terminated or truncated\n",
    "            state = next_state\n",
    "            episode_steps[-1] += 1\n",
    "            episode_reward[-1] += reward\n",
    "\n",
    "    env.close()\n",
    "    val = [episode_steps, episode_reward]\n",
    "    episode_steps = np.mean(episode_steps)\n",
    "    episode_reward = np.mean(episode_reward)\n",
    "    return ({'steps': episode_steps, 'reward': episode_reward},val)\n"
   ]
  },
  {
   "cell_type": "code",
   "execution_count": null,
   "metadata": {},
   "outputs": [],
   "source": []
  },
  {
   "cell_type": "code",
   "execution_count": 11,
   "metadata": {},
   "outputs": [],
   "source": [
    "dicts, array = evaluate_agent(env, model, 5)"
   ]
  },
  {
   "cell_type": "code",
   "execution_count": 12,
   "metadata": {},
   "outputs": [
    {
     "name": "stdout",
     "output_type": "stream",
     "text": [
      "[[6, 6, 6, 6, 6], [9.75, 9.75, 9.75, 9.75, 9.75]]\n"
     ]
    }
   ],
   "source": [
    "print(array)"
   ]
  },
  {
   "cell_type": "code",
   "execution_count": 13,
   "metadata": {},
   "outputs": [],
   "source": [
    "steps, rewards = array"
   ]
  },
  {
   "cell_type": "code",
   "execution_count": 15,
   "metadata": {},
   "outputs": [],
   "source": [
    "import matplotlib.pyplot as plt\n",
    "\n",
    "episodes = [1, 2, 3, 4, 5]"
   ]
  },
  {
   "cell_type": "code",
   "execution_count": 16,
   "metadata": {},
   "outputs": [
    {
     "data": {
      "image/png": "[encoded data removed]",
      "text/plain": [
       "<Figure size 1000x500 with 2 Axes>"
      ]
     },
     "metadata": {},
     "output_type": "display_data"
    }
   ],
   "source": [
    "# Plotting rewards vs. episode\n",
    "plt.figure(figsize=(10, 5))\n",
    "plt.subplot(1, 2, 1)  # 1 row, 2 columns, plot 1\n",
    "plt.plot(episodes, rewards, marker='o')\n",
    "plt.title('Reward vs. Episode')\n",
    "plt.xlabel('Episode')\n",
    "plt.ylabel('Reward')\n",
    "\n",
    "# Plotting steps vs. episode\n",
    "plt.subplot(1, 2, 2)  # 1 row, 2 columns, plot 2\n",
    "plt.plot(episodes, steps, marker='o')\n",
    "plt.title('Steps vs. Episode')\n",
    "plt.xlabel('Episode')\n",
    "plt.ylabel('Steps')\n",
    "\n",
    "# Adjust layout to prevent overlapping\n",
    "plt.tight_layout()\n",
    "\n",
    "# Show the plots\n",
    "plt.show()"
   ]
  }
 ],
 "metadata": {
  "kernelspec": {
   "display_name": "gyenv",
   "language": "python",
   "name": "python3"
  },
  "language_info": {
   "codemirror_mode": {
    "name": "ipython",
    "version": 3
   },
   "file_extension": ".py",
   "mimetype": "text/x-python",
   "name": "python",
   "nbconvert_exporter": "python",
   "pygments_lexer": "ipython3",
   "version": "3.10.8"
  }
 },
 "nbformat": 4,
 "nbformat_minor": 2
}
