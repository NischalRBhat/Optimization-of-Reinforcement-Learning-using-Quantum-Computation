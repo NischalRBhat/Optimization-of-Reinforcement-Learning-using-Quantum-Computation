{
  "cells": [
    {
      "cell_type": "markdown",
      "metadata": {},
      "source": [
        "## Importing Packages"
      ]
    },
    {
      "cell_type": "code",
      "execution_count": null,
      "metadata": {
        "colab": {
          "base_uri": "https://localhost:8080/"
        },
        "id": "YZ2ztxmDdiyd",
        "outputId": "d8ae2335-d19e-4ed8-88bf-55f275767287"
      },
      "outputs": [
        {
          "name": "stdout",
          "output_type": "stream",
          "text": [
            "Collecting swig\n",
            "  Downloading swig-4.2.1-py2.py3-none-manylinux_2_5_x86_64.manylinux1_x86_64.whl.metadata (3.6 kB)\n",
            "Downloading swig-4.2.1-py2.py3-none-manylinux_2_5_x86_64.manylinux1_x86_64.whl (1.9 MB)\n",
            "\u001b[?25l   \u001b[90m━━━━━━━━━━━━━━━━━━━━━━━━━━━━━━━━━━━━━━━━\u001b[0m \u001b[32m0.0/1.9 MB\u001b[0m \u001b[31m?\u001b[0m eta \u001b[36m-:--:--\u001b[0m\r\u001b[2K   \u001b[91m━━━━━━━━━━━━━━━━━━━━━━━━━━━━━━━\u001b[0m\u001b[90m╺\u001b[0m\u001b[90m━━━━━━━━\u001b[0m \u001b[32m1.4/1.9 MB\u001b[0m \u001b[31m42.7 MB/s\u001b[0m eta \u001b[36m0:00:01\u001b[0m\r\u001b[2K   \u001b[91m━━━━━━━━━━━━━━━━━━━━━━━━━━━━━━━━━━━━━━━\u001b[0m\u001b[91m╸\u001b[0m \u001b[32m1.8/1.9 MB\u001b[0m \u001b[31m35.2 MB/s\u001b[0m eta \u001b[36m0:00:01\u001b[0m\r\u001b[2K   \u001b[90m━━━━━━━━━━━━━━━━━━━━━━━━━━━━━━━━━━━━━━━━\u001b[0m \u001b[32m1.9/1.9 MB\u001b[0m \u001b[31m18.8 MB/s\u001b[0m eta \u001b[36m0:00:00\u001b[0m\n",
            "\u001b[?25hInstalling collected packages: swig\n",
            "Successfully installed swig-4.2.1\n",
            "Collecting box2d\n",
            "  Downloading Box2D-2.3.2.tar.gz (427 kB)\n",
            "\u001b[2K     \u001b[90m━━━━━━━━━━━━━━━━━━━━━━━━━━━━━━━━━━━━━━━━\u001b[0m \u001b[32m427.9/427.9 kB\u001b[0m \u001b[31m8.8 MB/s\u001b[0m eta \u001b[36m0:00:00\u001b[0m\n",
            "\u001b[?25h  Preparing metadata (setup.py) ... \u001b[?25l\u001b[?25hdone\n",
            "Building wheels for collected packages: box2d\n",
            "  Building wheel for box2d (setup.py) ... \u001b[?25l\u001b[?25hdone\n",
            "  Created wheel for box2d: filename=Box2D-2.3.2-cp310-cp310-linux_x86_64.whl size=2394335 sha256=845dcd0a8dd520157b6ff2976d476b30d97d0cfaa85c846452157c3f47e53c33\n",
            "  Stored in directory: /root/.cache/pip/wheels/eb/cb/be/e663f3ce9aba6580611c0febaf7cd3cf7603f87047de2a52f9\n",
            "Successfully built box2d\n",
            "Installing collected packages: box2d\n",
            "Successfully installed box2d-2.3.2\n",
            "Collecting box2d-kengz\n",
            "  Downloading Box2D-kengz-2.3.3.tar.gz (425 kB)\n",
            "\u001b[2K     \u001b[90m━━━━━━━━━━━━━━━━━━━━━━━━━━━━━━━━━━━━━━━━\u001b[0m \u001b[32m425.4/425.4 kB\u001b[0m \u001b[31m25.2 MB/s\u001b[0m eta \u001b[36m0:00:00\u001b[0m\n",
            "\u001b[?25h  Preparing metadata (setup.py) ... \u001b[?25l\u001b[?25hdone\n",
            "Building wheels for collected packages: box2d-kengz\n",
            "  Building wheel for box2d-kengz (setup.py) ... \u001b[?25l\u001b[?25hdone\n",
            "  Created wheel for box2d-kengz: filename=Box2D_kengz-2.3.3-cp310-cp310-linux_x86_64.whl size=2394326 sha256=65a0a210f6a8ca50c965f3a5397e7dbfeaa4beb682a173455fdfbad34efaea90\n",
            "  Stored in directory: /root/.cache/pip/wheels/ab/a3/5f/6396406aa0163da86c2a8d28304a120b55cfa98363654d853b\n",
            "Successfully built box2d-kengz\n",
            "Installing collected packages: box2d-kengz\n",
            "Successfully installed box2d-kengz-2.3.3\n"
          ]
        }
      ],
      "source": [
        "!pip3 install swig\n",
        "!pip install box2d\n",
        "!pip install box2d-kengz"
      ]
    },
    {
      "cell_type": "code",
      "execution_count": null,
      "metadata": {
        "execution": {
          "iopub.execute_input": "2023-11-24T11:12:02.701312Z",
          "iopub.status.busy": "2023-11-24T11:12:02.700931Z",
          "iopub.status.idle": "2023-11-24T11:12:02.835216Z",
          "shell.execute_reply": "2023-11-24T11:12:02.834093Z",
          "shell.execute_reply.started": "2023-11-24T11:12:02.701278Z"
        },
        "id": "Gg5k-NNycY5m",
        "trusted": true
      },
      "outputs": [],
      "source": [
        "import gym\n",
        "import math\n",
        "import numpy as np\n",
        "from itertools import count\n",
        "import torch\n",
        "import torch.nn as nn\n",
        "import torch.optim as optim\n",
        "import torch.nn.functional as F\n",
        "from torch.distributions import Categorical"
      ]
    },
    {
      "cell_type": "code",
      "execution_count": null,
      "metadata": {
        "colab": {
          "base_uri": "https://localhost:8080/"
        },
        "id": "zueCsNBGcq7C",
        "outputId": "5729c54b-376e-4ece-8605-47eaf6124c8a"
      },
      "outputs": [
        {
          "name": "stderr",
          "output_type": "stream",
          "text": [
            "/usr/local/lib/python3.10/dist-packages/ipykernel/ipkernel.py:283: DeprecationWarning: `should_run_async` will not call `transform_cell` automatically in the future. Please pass the result to `transformed_cell` argument and any exception that happen during thetransform in `preprocessing_exc_tuple` in IPython 7.17 and above.\n",
            "  and should_run_async(code)\n"
          ]
        }
      ],
      "source": [
        "\n",
        "# !pip3 install gym[box2d]"
      ]
    },
    {
      "cell_type": "markdown",
      "metadata": {},
      "source": [
        "## Redefining the Environment"
      ]
    },
    {
      "cell_type": "code",
      "execution_count": null,
      "metadata": {
        "execution": {
          "iopub.execute_input": "2023-11-24T11:12:02.837901Z",
          "iopub.status.busy": "2023-11-24T11:12:02.837559Z",
          "iopub.status.idle": "2023-11-24T11:12:02.947424Z",
          "shell.execute_reply": "2023-11-24T11:12:02.946309Z",
          "shell.execute_reply.started": "2023-11-24T11:12:02.837872Z"
        },
        "id": "fsQdGre8cY5o",
        "trusted": true
      },
      "outputs": [],
      "source": [
        "from gym.envs import box2d"
      ]
    },
    {
      "cell_type": "code",
      "execution_count": null,
      "metadata": {
        "id": "B2P6cmkJcY5p"
      },
      "outputs": [],
      "source": [
        "FPS = 50\n",
        "SCALE = 30.0  # affects how fast-paced the game is, forces should be adjusted as well\n",
        "\n",
        "MAIN_ENGINE_POWER = 13.0\n",
        "SIDE_ENGINE_POWER = 0.6\n",
        "\n",
        "INITIAL_RANDOM = 1000.0  # Set 1500 to make game harder\n",
        "\n",
        "LANDER_POLY = [(-14, +17), (-17, 0), (-17, -10), (+17, -10), (+17, 0), (+14, +17)]\n",
        "LEG_AWAY = 20\n",
        "LEG_DOWN = 18\n",
        "LEG_W, LEG_H = 2, 8\n",
        "LEG_SPRING_TORQUE = 40\n",
        "\n",
        "SIDE_ENGINE_HEIGHT = 14.0\n",
        "SIDE_ENGINE_AWAY = 12.0\n",
        "\n",
        "VIEWPORT_W = 600\n",
        "VIEWPORT_H = 400"
      ]
    },
    {
      "cell_type": "code",
      "execution_count": null,
      "metadata": {
        "id": "TduwiKOJecWQ"
      },
      "outputs": [],
      "source": []
    },
    {
      "cell_type": "code",
      "execution_count": null,
      "metadata": {
        "execution": {
          "iopub.execute_input": "2023-11-24T11:12:02.949400Z",
          "iopub.status.busy": "2023-11-24T11:12:02.948991Z",
          "iopub.status.idle": "2023-11-24T11:12:02.975117Z",
          "shell.execute_reply": "2023-11-24T11:12:02.973801Z",
          "shell.execute_reply.started": "2023-11-24T11:12:02.949365Z"
        },
        "id": "lPa0DsiVcY5p",
        "trusted": true
      },
      "outputs": [],
      "source": [
        "class RewardShaped(box2d.lunar_lander.LunarLander):\n",
        "    def __init__(self, **kwargs):\n",
        "        super(RewardShaped, self).__init__(**kwargs)\n",
        "\n",
        "    def step(self, action):\n",
        "        assert self.lander is not None\n",
        "\n",
        "        # Update wind\n",
        "        assert self.lander is not None, \"You forgot to call reset()\"\n",
        "        if self.enable_wind and not (\n",
        "            self.legs[0].ground_contact or self.legs[1].ground_contact\n",
        "        ):\n",
        "            # the function used for wind is tanh(sin(2 k x) + sin(pi k x)),\n",
        "            # which is proven to never be periodic, k = 0.01\n",
        "            wind_mag = (\n",
        "                math.tanh(\n",
        "                    math.sin(0.02 * self.wind_idx)\n",
        "                    + (math.sin(math.pi * 0.01 * self.wind_idx))\n",
        "                )\n",
        "                * self.wind_power\n",
        "            )\n",
        "            self.wind_idx += 1\n",
        "            self.lander.ApplyForceToCenter(\n",
        "                (wind_mag, 0.0),\n",
        "                True,\n",
        "            )\n",
        "\n",
        "            # the function used for torque is tanh(sin(2 k x) + sin(pi k x)),\n",
        "            # which is proven to never be periodic, k = 0.01\n",
        "            torque_mag = math.tanh(\n",
        "                math.sin(0.02 * self.torque_idx)\n",
        "                + (math.sin(math.pi * 0.01 * self.torque_idx))\n",
        "            ) * (self.turbulence_power)\n",
        "            self.torque_idx += 1\n",
        "            self.lander.ApplyTorque(\n",
        "                (torque_mag),\n",
        "                True,\n",
        "            )\n",
        "\n",
        "        if self.continuous:\n",
        "            action = np.clip(action, -1, +1).astype(np.float32)\n",
        "        else:\n",
        "            assert self.action_space.contains(\n",
        "                action\n",
        "            ), f\"{action!r} ({type(action)}) invalid \"\n",
        "\n",
        "        # Engines\n",
        "        tip = (math.sin(self.lander.angle), math.cos(self.lander.angle))\n",
        "        side = (-tip[1], tip[0])\n",
        "        dispersion = [self.np_random.uniform(-1.0, +1.0) / SCALE for _ in range(2)]\n",
        "\n",
        "        m_power = 0.0\n",
        "        if (self.continuous and action[0] > 0.0) or (\n",
        "            not self.continuous and action == 2\n",
        "        ):\n",
        "            # Main engine\n",
        "            if self.continuous:\n",
        "                m_power = (np.clip(action[0], 0.0, 1.0) + 1.0) * 0.5  # 0.5..1.0\n",
        "                assert m_power >= 0.5 and m_power <= 1.0\n",
        "            else:\n",
        "                m_power = 1.0\n",
        "            # 4 is move a bit downwards, +-2 for randomness\n",
        "            ox = tip[0] * (4 / SCALE + 2 * dispersion[0]) + side[0] * dispersion[1]\n",
        "            oy = -tip[1] * (4 / SCALE + 2 * dispersion[0]) - side[1] * dispersion[1]\n",
        "            impulse_pos = (self.lander.position[0] + ox, self.lander.position[1] + oy)\n",
        "            p = self._create_particle(\n",
        "                3.5,  # 3.5 is here to make particle speed adequate\n",
        "                impulse_pos[0],\n",
        "                impulse_pos[1],\n",
        "                m_power,\n",
        "            )  # particles are just a decoration\n",
        "            p.ApplyLinearImpulse(\n",
        "                (ox * MAIN_ENGINE_POWER * m_power, oy * MAIN_ENGINE_POWER * m_power),\n",
        "                impulse_pos,\n",
        "                True,\n",
        "            )\n",
        "            self.lander.ApplyLinearImpulse(\n",
        "                (-ox * MAIN_ENGINE_POWER * m_power, -oy * MAIN_ENGINE_POWER * m_power),\n",
        "                impulse_pos,\n",
        "                True,\n",
        "            )\n",
        "\n",
        "        s_power = 0.0\n",
        "        if (self.continuous and np.abs(action[1]) > 0.5) or (\n",
        "            not self.continuous and action in [1, 3]\n",
        "        ):\n",
        "            # Orientation engines\n",
        "            if self.continuous:\n",
        "                direction = np.sign(action[1])\n",
        "                s_power = np.clip(np.abs(action[1]), 0.5, 1.0)\n",
        "                assert s_power >= 0.5 and s_power <= 1.0\n",
        "            else:\n",
        "                direction = action - 2\n",
        "                s_power = 1.0\n",
        "            ox = tip[0] * dispersion[0] + side[0] * (\n",
        "                3 * dispersion[1] + direction * SIDE_ENGINE_AWAY / SCALE\n",
        "            )\n",
        "            oy = -tip[1] * dispersion[0] - side[1] * (\n",
        "                3 * dispersion[1] + direction * SIDE_ENGINE_AWAY / SCALE\n",
        "            )\n",
        "            impulse_pos = (\n",
        "                self.lander.position[0] + ox - tip[0] * 17 / SCALE,\n",
        "                self.lander.position[1] + oy + tip[1] * SIDE_ENGINE_HEIGHT / SCALE,\n",
        "            )\n",
        "            p = self._create_particle(0.7, impulse_pos[0], impulse_pos[1], s_power)\n",
        "            p.ApplyLinearImpulse(\n",
        "                (ox * SIDE_ENGINE_POWER * s_power, oy * SIDE_ENGINE_POWER * s_power),\n",
        "                impulse_pos,\n",
        "                True,\n",
        "            )\n",
        "            self.lander.ApplyLinearImpulse(\n",
        "                (-ox * SIDE_ENGINE_POWER * s_power, -oy * SIDE_ENGINE_POWER * s_power),\n",
        "                impulse_pos,\n",
        "                True,\n",
        "            )\n",
        "\n",
        "        self.world.Step(1.0 / FPS, 6 * 30, 2 * 30)\n",
        "\n",
        "        pos = self.lander.position\n",
        "        vel = self.lander.linearVelocity\n",
        "        state = [\n",
        "            (pos.x - VIEWPORT_W / SCALE / 2) / (VIEWPORT_W / SCALE / 2),\n",
        "            (pos.y - (self.helipad_y + LEG_DOWN / SCALE)) / (VIEWPORT_H / SCALE / 2),\n",
        "            vel.x * (VIEWPORT_W / SCALE / 2) / FPS,\n",
        "            vel.y * (VIEWPORT_H / SCALE / 2) / FPS,\n",
        "            self.lander.angle,\n",
        "            20.0 * self.lander.angularVelocity / FPS,\n",
        "            1.0 if self.legs[0].ground_contact else 0.0,\n",
        "            1.0 if self.legs[1].ground_contact else 0.0,\n",
        "        ]\n",
        "        assert len(state) == 8\n",
        "\n",
        "        reward = 0\n",
        "        shaping = (\n",
        "            -100 * np.sqrt(state[0] * state[0] + state[1] * state[1])\n",
        "            - 100 * np.sqrt(state[2] * state[2] + state[3] * state[3])\n",
        "            - 100 * abs(state[4])\n",
        "            - 1 * abs(state[3])/5\n",
        "            - 20 * abs(state[5])\n",
        "            + 30 * state[6]\n",
        "            + 30 * state[7]\n",
        "        )  # And ten points for legs contact, the idea is if you\n",
        "        # lose contact again after landing, you get negative reward\n",
        "        if self.prev_shaping is not None:\n",
        "            reward = shaping - self.prev_shaping\n",
        "        self.prev_shaping = shaping\n",
        "\n",
        "        reward -= (\n",
        "            m_power * 0.2\n",
        "        )  # less fuel spent is better, about -30 for heuristic landing\n",
        "        reward -= s_power * 0.02\n",
        "\n",
        "        Chunks = 11\n",
        "        Wi = VIEWPORT_W / SCALE\n",
        "        chunkx = [Wi / (Chunks - 1) * i for i in range(Chunks)]\n",
        "        helipadx1 = chunkx[Chunks // 2 - 1]\n",
        "        helipadx2 = chunkx[Chunks // 2 + 1]\n",
        "        left_pad = (helipadx1 - 10) / 10\n",
        "        right_pad = (helipadx2 - 10) / 10\n",
        "\n",
        "\n",
        "        terminated = False\n",
        "        if self.game_over or abs(state[0]) >= 1.0:\n",
        "            terminated = True\n",
        "            reward = -100\n",
        "        if state[6] == 1 and state[7] == 1 and not self.game_over and state[0] > left_pad and state[0] < right_pad:\n",
        "            self.lander.awake = False\n",
        "        if not self.lander.awake:\n",
        "            terminated = True\n",
        "            reward = +150\n",
        "\n",
        "        if self.render_mode == \"human\":\n",
        "            self.render()\n",
        "        return np.array(state, dtype=np.float32), reward, terminated, False, {}"
      ]
    },
    {
      "cell_type": "markdown",
      "metadata": {},
      "source": [
        "## Registering the new environment"
      ]
    },
    {
      "cell_type": "code",
      "execution_count": null,
      "metadata": {
        "execution": {
          "iopub.execute_input": "2023-11-24T11:12:02.976898Z",
          "iopub.status.busy": "2023-11-24T11:12:02.976597Z",
          "iopub.status.idle": "2023-11-24T11:12:02.987642Z",
          "shell.execute_reply": "2023-11-24T11:12:02.986851Z",
          "shell.execute_reply.started": "2023-11-24T11:12:02.976873Z"
        },
        "id": "1jg_EDNWcY5q",
        "trusted": true
      },
      "outputs": [],
      "source": [
        "from gym.envs.registration import register"
      ]
    },
    {
      "cell_type": "code",
      "execution_count": null,
      "metadata": {
        "execution": {
          "iopub.execute_input": "2023-11-24T11:12:02.990016Z",
          "iopub.status.busy": "2023-11-24T11:12:02.988889Z",
          "iopub.status.idle": "2023-11-24T11:12:02.998541Z",
          "shell.execute_reply": "2023-11-24T11:12:02.997552Z",
          "shell.execute_reply.started": "2023-11-24T11:12:02.989975Z"
        },
        "id": "PPJKMZVqcY5r",
        "trusted": true
      },
      "outputs": [],
      "source": [
        "register(\n",
        "    id='Lon', # name given to this new environment\n",
        "    entry_point=__name__+':RewardShaped', # env entry point\n",
        "    kwargs={}\n",
        ")"
      ]
    },
    {
      "cell_type": "code",
      "execution_count": null,
      "metadata": {
        "colab": {
          "base_uri": "https://localhost:8080/"
        },
        "execution": {
          "iopub.execute_input": "2023-11-24T11:12:03.000773Z",
          "iopub.status.busy": "2023-11-24T11:12:03.000099Z",
          "iopub.status.idle": "2023-11-24T11:12:03.008991Z",
          "shell.execute_reply": "2023-11-24T11:12:03.008004Z",
          "shell.execute_reply.started": "2023-11-24T11:12:03.000710Z"
        },
        "id": "uCu5EaNocY5r",
        "outputId": "a4c3ca1a-e25b-49f4-bff6-18d983da0c8b",
        "trusted": true
      },
      "outputs": [
        {
          "name": "stdout",
          "output_type": "stream",
          "text": [
            "EnvSpec(id='Lon', entry_point='__main__:RewardShaped', reward_threshold=None, nondeterministic=False, max_episode_steps=None, order_enforce=True, autoreset=False, disable_env_checker=False, new_step_api=False, kwargs={}, namespace=None, name='Lon', version=None)\n"
          ]
        }
      ],
      "source": [
        "from gym import envs\n",
        "print(envs.registry[\"Lon\"])"
      ]
    },
    {
      "cell_type": "code",
      "execution_count": null,
      "metadata": {
        "colab": {
          "base_uri": "https://localhost:8080/"
        },
        "execution": {
          "iopub.execute_input": "2023-11-24T11:12:03.011105Z",
          "iopub.status.busy": "2023-11-24T11:12:03.010555Z",
          "iopub.status.idle": "2023-11-24T11:12:03.462198Z",
          "shell.execute_reply": "2023-11-24T11:12:03.460699Z",
          "shell.execute_reply.started": "2023-11-24T11:12:03.011064Z"
        },
        "id": "crv75DnbcY5r",
        "outputId": "fbfdc450-4bb6-48e6-e959-c3adcb1dd5d4",
        "trusted": true
      },
      "outputs": [
        {
          "name": "stderr",
          "output_type": "stream",
          "text": [
            "/usr/local/lib/python3.10/dist-packages/gym/core.py:317: DeprecationWarning: \u001b[33mWARN: Initializing wrapper in old step API which returns one bool instead of two. It is recommended to set `new_step_api=True` to use new step API. This will be the default behaviour in future.\u001b[0m\n",
            "  deprecation(\n",
            "/usr/local/lib/python3.10/dist-packages/gym/wrappers/step_api_compatibility.py:39: DeprecationWarning: \u001b[33mWARN: Initializing environment in old step API which returns one bool instead of two. It is recommended to set `new_step_api=True` to use new step API. This will be the default behaviour in future.\u001b[0m\n",
            "  deprecation(\n"
          ]
        }
      ],
      "source": [
        "env = gym.make(\"Lon\")"
      ]
    },
    {
      "cell_type": "code",
      "execution_count": null,
      "metadata": {
        "id": "eCUDx7wucY5s"
      },
      "outputs": [],
      "source": [
        "device = torch.device(\"cuda\" if torch.cuda.is_available() else \"cpu\")\n",
        "\n",
        "state_size = env.observation_space.shape[0]\n",
        "action_size = env.action_space.n\n",
        "lr = 0.0001"
      ]
    },
    {
      "cell_type": "code",
      "execution_count": null,
      "metadata": {
        "id": "7CySmznPcY5s"
      },
      "outputs": [],
      "source": [
        "import pennylane as qml"
      ]
    },
    {
      "cell_type": "markdown",
      "metadata": {},
      "source": [
        "## Defining the Actor and Critic"
      ]
    },
    {
      "cell_type": "code",
      "execution_count": null,
      "metadata": {
        "id": "EVcy1eA6cY5t"
      },
      "outputs": [],
      "source": [
        "class Actor(nn.Module):\n",
        "    def __init__(self, state_size, action_size):\n",
        "        super(Actor, self).__init__()\n",
        "        self.state_size = state_size\n",
        "        self.action_size = action_size\n",
        "        self.linear1 = nn.Linear(self.state_size, 128)\n",
        "        self.linear2 = nn.Linear(128, 256)\n",
        "        self.linear3 = nn.Linear(256, self.action_size)\n",
        "\n",
        "    def forward(self, state):\n",
        "        output = F.relu(self.linear1(state))\n",
        "        output = F.relu(self.linear2(output))\n",
        "        output = self.linear3(output)\n",
        "        distribution = Categorical(F.softmax(output, dim=-1))\n",
        "        return distribution\n",
        "\n",
        "\n",
        "class Critic(nn.Module):\n",
        "    def __init__(self, state_size, action_size):\n",
        "        super(Critic, self).__init__()\n",
        "        self.state_size = state_size\n",
        "        self.action_size = action_size\n",
        "        self.linear1 = nn.Linear(self.state_size, 128)\n",
        "        self.linear2 = nn.Linear(128, 256)\n",
        "        self.linear3 = nn.Linear(256, 1)\n",
        "\n",
        "    def forward(self, state):\n",
        "        output = F.relu(self.linear1(state))\n",
        "        output = F.relu(self.linear2(output))\n",
        "        value = self.linear3(output)\n",
        "        return value"
      ]
    },
    {
      "cell_type": "code",
      "execution_count": null,
      "metadata": {
        "id": "uRt70mLpcY5t"
      },
      "outputs": [],
      "source": [
        "def compute_returns(next_value, rewards, masks, gamma=0.99):\n",
        "    R = next_value\n",
        "    returns = []\n",
        "    for step in reversed(range(len(rewards))):\n",
        "        R = rewards[step] + gamma * R * masks[step]\n",
        "        returns.insert(0, R)\n",
        "    return returns\n",
        "\n"
      ]
    },
    {
      "cell_type": "markdown",
      "metadata": {},
      "source": [
        "## Plotting Training Rewards"
      ]
    },
    {
      "cell_type": "code",
      "execution_count": null,
      "metadata": {
        "id": "H9-rLl5bcY5t"
      },
      "outputs": [],
      "source": [
        "import matplotlib\n",
        "import matplotlib.pyplot as plt\n",
        "\n",
        "is_ipython = 'inline' in matplotlib.get_backend()\n",
        "if is_ipython:\n",
        "    from IPython import display\n",
        "\n",
        "plt.ion()\n",
        "\n",
        "episode_rewards = []\n",
        "\n",
        "def plot_durations(show_result=False):\n",
        "    plt.figure(1)\n",
        "    rewards_t = torch.tensor(episode_rewards, dtype=torch.float)\n",
        "    if show_result:\n",
        "        plt.title('Result')\n",
        "    else:\n",
        "        plt.clf()\n",
        "        plt.title('Training...')\n",
        "    plt.xlabel('Episode')\n",
        "    plt.ylabel('')\n",
        "    plt.plot(rewards_t.numpy())\n",
        "    # Take 100 episode averages and plot them too\n",
        "    if len(rewards_t) >= 10:\n",
        "        means = rewards_t.unfold(0, 10, 1).mean(1).view(-1)\n",
        "        means = torch.cat((torch.zeros(9), means))\n",
        "        plt.plot(means.numpy())\n",
        "\n",
        "    plt.pause(0.001)  # pause a bit so that plots are updated\n",
        "    if is_ipython:\n",
        "        if not show_result:\n",
        "            display.display(plt.gcf())\n",
        "            display.clear_output(wait=True)\n",
        "        else:\n",
        "            display.display(plt.gcf())"
      ]
    },
    {
      "cell_type": "markdown",
      "metadata": {},
      "source": [
        "## Defining Training Module"
      ]
    },
    {
      "cell_type": "code",
      "execution_count": null,
      "metadata": {
        "id": "wRfF9FtmcY5t"
      },
      "outputs": [],
      "source": [
        "\n",
        "def trainIters(actor, critic, episode_rewards, n_iters):\n",
        "    optimizerA = optim.Adam(actor.parameters(), lr = 0.005, amsgrad = True)\n",
        "    optimizerC = optim.Adam(critic.parameters(), lr = 0.005, amsgrad = True)\n",
        "    rewards_p = []\n",
        "    returns_p = []\n",
        "    for iter in range(n_iters):\n",
        "        state = env.reset()\n",
        "        log_probs = []\n",
        "        values = []\n",
        "        rewards = []\n",
        "        masks = []\n",
        "        entropy = 0\n",
        "        env.reset()\n",
        "        total_rewards = 0\n",
        "        steps = 0\n",
        "        done = False\n",
        "\n",
        "        while not done:\n",
        "            #env.render()\n",
        "            state = torch.FloatTensor(state).to(device)\n",
        "            dist, value = actor(state), critic(state)\n",
        "\n",
        "            action = dist.sample()\n",
        "            steps += 1\n",
        "            next_state, reward, done, _ = env.step(action.cpu().numpy())\n",
        "            # done = term or trun\n",
        "\n",
        "            total_rewards += reward\n",
        "            log_prob = dist.log_prob(action).unsqueeze(0)\n",
        "            entropy += dist.entropy().mean()\n",
        "\n",
        "            log_probs.append(log_prob)\n",
        "            values.append(value)\n",
        "            rewards.append(torch.tensor([reward], dtype=torch.float, device=device))\n",
        "            masks.append(torch.tensor([1-done], dtype=torch.float, device=device))\n",
        "\n",
        "            state = next_state\n",
        "\n",
        "            if done or (steps == 800):\n",
        "                print('Iteration: {}, Score: {}'.format(iter, total_rewards))\n",
        "                episode_rewards.append(total_rewards)\n",
        "                plot_durations()\n",
        "                break\n",
        "\n",
        "        rewards_p.append(total_rewards)\n",
        "        next_state = torch.FloatTensor(next_state).to(device)\n",
        "        next_value = critic(next_state)\n",
        "        returns = compute_returns(next_value, rewards, masks)\n",
        "        returns_p.append(sum(returns))\n",
        "\n",
        "        log_probs = torch.cat(log_probs)\n",
        "        returns = torch.cat(returns).detach()\n",
        "        values = torch.cat(values)\n",
        "\n",
        "        advantage = returns - values\n",
        "\n",
        "        actor_loss = -(log_probs * advantage.detach()).mean()\n",
        "        critic_loss = advantage.pow(2).mean()\n",
        "\n",
        "        optimizerA.zero_grad()\n",
        "        optimizerC.zero_grad()\n",
        "        actor_loss.backward()\n",
        "        critic_loss.backward()\n",
        "        optimizerA.step()\n",
        "        optimizerC.step()\n",
        "    torch.save(actor.state_dict(), 'actorql2.pkl')\n",
        "    torch.save(critic.state_dict(), 'criticql2.pkl')\n",
        "    env.close()\n",
        "    print('Complete')\n",
        "    plot_durations(show_result=True)\n",
        "    plt.ioff()\n",
        "    plt.show()\n",
        "    return rewards_p, returns_p\n"
      ]
    },
    {
      "cell_type": "markdown",
      "metadata": {},
      "source": [
        "## Creating the Actor and Critic objects"
      ]
    },
    {
      "cell_type": "code",
      "execution_count": null,
      "metadata": {
        "id": "iRL4QRShcY5u"
      },
      "outputs": [],
      "source": [
        "actor = Actor(state_size, action_size).to(device)\n",
        "\n",
        "critic = Critic(state_size, action_size).to(device)\n"
      ]
    },
    {
      "cell_type": "markdown",
      "metadata": {},
      "source": [
        "## Training the Agent"
      ]
    },
    {
      "cell_type": "code",
      "execution_count": null,
      "metadata": {
        "colab": {
          "base_uri": "https://localhost:8080/",
          "height": 527
        },
        "id": "anKMn82acY5u",
        "outputId": "15a5a145-f36e-4a41-f048-ebf69d401d66"
      },
      "outputs": [
        {
          "name": "stdout",
          "output_type": "stream",
          "text": [
            "Complete\n"
          ]
        },
        {
          "data": {
            "image/png": "[encoded data removed]",
            "text/plain": [
              "<Figure size 640x480 with 1 Axes>"
            ]
          },
          "metadata": {},
          "output_type": "display_data"
        },
        {
          "data": {
            "text/plain": [
              "<Figure size 640x480 with 0 Axes>"
            ]
          },
          "metadata": {},
          "output_type": "display_data"
        },
        {
          "data": {
            "text/plain": [
              "<Figure size 640x480 with 0 Axes>"
            ]
          },
          "metadata": {},
          "output_type": "display_data"
        }
      ],
      "source": [
        "rewards, returns = trainIters(actor, critic, episode_rewards, 1000)"
      ]
    },
    {
      "cell_type": "markdown",
      "metadata": {},
      "source": [
        "## Saving simultations results in gif"
      ]
    },
    {
      "cell_type": "code",
      "execution_count": null,
      "metadata": {
        "id": "AU95E-nNcY5u"
      },
      "outputs": [],
      "source": [
        "import imageio\n",
        "\n",
        "def saveanimation(frames,address=\"./lra2c.gif\"):\n",
        "    imageio.mimwrite(address, frames)"
      ]
    },
    {
      "cell_type": "code",
      "execution_count": null,
      "metadata": {
        "id": "RkfwhWkUcY5u"
      },
      "outputs": [],
      "source": [
        "env1 = gym.make(\"Lon\")"
      ]
    },
    {
      "cell_type": "markdown",
      "metadata": {},
      "source": [
        "## Testing the Agent"
      ]
    },
    {
      "cell_type": "code",
      "execution_count": null,
      "metadata": {
        "colab": {
          "base_uri": "https://localhost:8080/"
        },
        "id": "go_XaW8GcY5u",
        "outputId": "3415391c-ce1f-4567-d8d8-b14cae4e4659"
      },
      "outputs": [
        {
          "name": "stdout",
          "output_type": "stream",
          "text": [
            "Episode 0: Reward 109.68124249423906\n",
            "Episode 1: Reward 138.37451479029974\n",
            "Episode 2: Reward 125.61348408725132\n",
            "Episode 3: Reward 106.8672107380387\n",
            "Episode 4: Reward -120.10121344174814\n"
          ]
        }
      ],
      "source": [
        "rewards = []\n",
        "frames = []\n",
        "\n",
        "for i in range(5):\n",
        "    done = False\n",
        "    t_rewards = 0\n",
        "    state = env1.reset()\n",
        "\n",
        "    step = 0\n",
        "\n",
        "    while not done:\n",
        "        # frames.append(env1.render())\n",
        "        state = torch.FloatTensor(state).to(device)\n",
        "        dist, value = actor(state), critic(state)\n",
        "\n",
        "        action = dist.sample()\n",
        "        obs, reward, done, info = env1.step(action.cpu().numpy())\n",
        "        # done = term or trunc\n",
        "        step += 1\n",
        "        # if step > 1000:\n",
        "        #   done = True\n",
        "\n",
        "        t_rewards += reward\n",
        "        if done:\n",
        "            break\n",
        "        else:\n",
        "            state = obs\n",
        "\n",
        "    rewards.append(t_rewards)\n",
        "    print(f\"Episode {i}: Reward {t_rewards}\")\n",
        "\n",
        "# saveanimation(frames)\n",
        "env1.close()"
      ]
    },
    {
      "cell_type": "code",
      "execution_count": null,
      "metadata": {
        "id": "C9Y1JQl1cY5v"
      },
      "outputs": [],
      "source": [
        "torch.save(actor.state_dict(), \"lra2ca_final.pt\")\n",
        "torch.save(critic.state_dict(), \"lra2cc_final.pt\")\n"
      ]
    },
    {
      "cell_type": "code",
      "execution_count": null,
      "metadata": {
        "colab": {
          "base_uri": "https://localhost:8080/"
        },
        "id": "Ga1KJhSRhnDA",
        "outputId": "59434e26-97c8-4084-df83-4bb4591e3237"
      },
      "outputs": [
        {
          "data": {
            "text/plain": [
              "72.08704773361613"
            ]
          },
          "execution_count": 74,
          "metadata": {},
          "output_type": "execute_result"
        }
      ],
      "source": [
        "sum(rewards)/5"
      ]
    },
    {
      "cell_type": "code",
      "execution_count": null,
      "metadata": {
        "colab": {
          "base_uri": "https://localhost:8080/"
        },
        "id": "s78a4K8vVxqX",
        "outputId": "46a0f5f1-440f-447c-dadb-7b0fce4589dd"
      },
      "outputs": [
        {
          "name": "stderr",
          "output_type": "stream",
          "text": [
            "/usr/local/lib/python3.10/dist-packages/ipykernel/ipkernel.py:283: DeprecationWarning: `should_run_async` will not call `transform_cell` automatically in the future. Please pass the result to `transformed_cell` argument and any exception that happen during thetransform in `preprocessing_exc_tuple` in IPython 7.17 and above.\n",
            "  and should_run_async(code)\n"
          ]
        },
        {
          "data": {
            "text/plain": [
              "[109.68124249423906,\n",
              " 138.37451479029974,\n",
              " 125.61348408725132,\n",
              " 106.8672107380387,\n",
              " -120.10121344174814]"
            ]
          },
          "execution_count": 78,
          "metadata": {},
          "output_type": "execute_result"
        }
      ],
      "source": [
        "rewards"
      ]
    },
    {
      "cell_type": "code",
      "execution_count": null,
      "metadata": {
        "id": "MIKBhkJOkYw9"
      },
      "outputs": [],
      "source": [
        "episodes = [1,2,3,4,5]\n",
        "steps = []"
      ]
    },
    {
      "cell_type": "code",
      "execution_count": null,
      "metadata": {
        "colab": {
          "base_uri": "https://localhost:8080/",
          "height": 507
        },
        "id": "nVqwLtS3hnnf",
        "outputId": "03c7693b-7865-4669-cfd0-ff3d90cbf059"
      },
      "outputs": [
        {
          "data": {
            "image/png": "[encoded data removed]",
            "text/plain": [
              "<Figure size 1000x500 with 1 Axes>"
            ]
          },
          "metadata": {},
          "output_type": "display_data"
        }
      ],
      "source": [
        "# Plotting rewards vs. episode\n",
        "plt.figure(figsize=(10, 5))\n",
        "plt.subplot(1, 2, 1)  # 1 row, 2 columns, plot 1\n",
        "plt.plot(episodes, rewards, marker='o')\n",
        "plt.title('Reward vs. Episode')\n",
        "plt.xlabel('Episode')\n",
        "plt.ylabel('Reward')\n",
        "\n",
        "# Adjust layout to prevent overlapping\n",
        "plt.tight_layout()\n",
        "\n",
        "# Show the plots\n",
        "plt.show()"
      ]
    },
    {
      "cell_type": "code",
      "execution_count": null,
      "metadata": {
        "id": "55IOcpM1kbsx"
      },
      "outputs": [],
      "source": []
    }
  ],
  "metadata": {
    "colab": {
      "provenance": []
    },
    "kaggle": {
      "accelerator": "none",
      "dataSources": [],
      "dockerImageVersionId": 30587,
      "isGpuEnabled": false,
      "isInternetEnabled": true,
      "language": "python",
      "sourceType": "notebook"
    },
    "kernelspec": {
      "display_name": "Python 3",
      "language": "python",
      "name": "python3"
    },
    "language_info": {
      "codemirror_mode": {
        "name": "ipython",
        "version": 3
      },
      "file_extension": ".py",
      "mimetype": "text/x-python",
      "name": "python",
      "nbconvert_exporter": "python",
      "pygments_lexer": "ipython3",
      "version": "3.10.8"
    }
  },
  "nbformat": 4,
  "nbformat_minor": 0
}
