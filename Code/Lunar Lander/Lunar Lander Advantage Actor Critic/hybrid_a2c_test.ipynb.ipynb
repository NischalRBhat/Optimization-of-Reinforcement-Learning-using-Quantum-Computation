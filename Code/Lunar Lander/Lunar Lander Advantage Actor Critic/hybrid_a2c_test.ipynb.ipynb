{
 "cells": [
  {
   "cell_type": "markdown",
   "metadata": {},
   "source": [
    "## Importing Packages"
   ]
  },
  {
   "cell_type": "code",
   "execution_count": 118,
   "metadata": {},
   "outputs": [],
   "source": [
    "import gym\n",
    "import math\n",
    "import numpy as np\n",
    "from itertools import count\n",
    "import torch\n",
    "import torch.nn as nn\n",
    "import torch.optim as optim\n",
    "import torch.nn.functional as F\n",
    "from torch.distributions import Categorical"
   ]
  },
  {
   "cell_type": "markdown",
   "metadata": {},
   "source": [
    "## Redefining the Environment"
   ]
  },
  {
   "cell_type": "code",
   "execution_count": 119,
   "metadata": {},
   "outputs": [],
   "source": [
    "from gym.envs import box2d"
   ]
  },
  {
   "cell_type": "code",
   "execution_count": 120,
   "metadata": {},
   "outputs": [],
   "source": [
    "FPS = 50\n",
    "SCALE = 30.0  # affects how fast-paced the game is, forces should be adjusted as well\n",
    "\n",
    "MAIN_ENGINE_POWER = 13.0\n",
    "SIDE_ENGINE_POWER = 0.6\n",
    "\n",
    "INITIAL_RANDOM = 1000.0  # Set 1500 to make game harder\n",
    "\n",
    "LANDER_POLY = [(-14, +17), (-17, 0), (-17, -10), (+17, -10), (+17, 0), (+14, +17)]\n",
    "LEG_AWAY = 20\n",
    "LEG_DOWN = 18\n",
    "LEG_W, LEG_H = 2, 8\n",
    "LEG_SPRING_TORQUE = 40\n",
    "\n",
    "SIDE_ENGINE_HEIGHT = 14.0\n",
    "SIDE_ENGINE_AWAY = 12.0\n",
    "\n",
    "VIEWPORT_W = 600\n",
    "VIEWPORT_H = 400"
   ]
  },
  {
   "cell_type": "code",
   "execution_count": 121,
   "metadata": {},
   "outputs": [],
   "source": [
    "class RewardShaped(box2d.lunar_lander.LunarLander):\n",
    "    def __init__(self, **kwargs):\n",
    "        super(RewardShaped, self).__init__(**kwargs)\n",
    "        \n",
    "    def step(self, action):\n",
    "        assert self.lander is not None\n",
    "\n",
    "        # Update wind\n",
    "        assert self.lander is not None, \"You forgot to call reset()\"\n",
    "        if self.enable_wind and not (\n",
    "            self.legs[0].ground_contact or self.legs[1].ground_contact\n",
    "        ):\n",
    "            # the function used for wind is tanh(sin(2 k x) + sin(pi k x)),\n",
    "            # which is proven to never be periodic, k = 0.01\n",
    "            wind_mag = (\n",
    "                math.tanh(\n",
    "                    math.sin(0.02 * self.wind_idx)\n",
    "                    + (math.sin(math.pi * 0.01 * self.wind_idx))\n",
    "                )\n",
    "                * self.wind_power\n",
    "            )\n",
    "            self.wind_idx += 1\n",
    "            self.lander.ApplyForceToCenter(\n",
    "                (wind_mag, 0.0),\n",
    "                True,\n",
    "            )\n",
    "\n",
    "            # the function used for torque is tanh(sin(2 k x) + sin(pi k x)),\n",
    "            # which is proven to never be periodic, k = 0.01\n",
    "            torque_mag = math.tanh(\n",
    "                math.sin(0.02 * self.torque_idx)\n",
    "                + (math.sin(math.pi * 0.01 * self.torque_idx))\n",
    "            ) * (self.turbulence_power)\n",
    "            self.torque_idx += 1\n",
    "            self.lander.ApplyTorque(\n",
    "                (torque_mag),\n",
    "                True,\n",
    "            )\n",
    "\n",
    "        if self.continuous:\n",
    "            action = np.clip(action, -1, +1).astype(np.float32)\n",
    "        else:\n",
    "            assert self.action_space.contains(\n",
    "                action\n",
    "            ), f\"{action!r} ({type(action)}) invalid \"\n",
    "\n",
    "        # Engines\n",
    "        tip = (math.sin(self.lander.angle), math.cos(self.lander.angle))\n",
    "        side = (-tip[1], tip[0])\n",
    "        dispersion = [self.np_random.uniform(-1.0, +1.0) / SCALE for _ in range(2)]\n",
    "\n",
    "        m_power = 0.0\n",
    "        if (self.continuous and action[0] > 0.0) or (\n",
    "            not self.continuous and action == 2\n",
    "        ):\n",
    "            # Main engine\n",
    "            if self.continuous:\n",
    "                m_power = (np.clip(action[0], 0.0, 1.0) + 1.0) * 0.5  # 0.5..1.0\n",
    "                assert m_power >= 0.5 and m_power <= 1.0\n",
    "            else:\n",
    "                m_power = 1.0\n",
    "            # 4 is move a bit downwards, +-2 for randomness\n",
    "            ox = tip[0] * (4 / SCALE + 2 * dispersion[0]) + side[0] * dispersion[1]\n",
    "            oy = -tip[1] * (4 / SCALE + 2 * dispersion[0]) - side[1] * dispersion[1]\n",
    "            impulse_pos = (self.lander.position[0] + ox, self.lander.position[1] + oy)\n",
    "            p = self._create_particle(\n",
    "                3.5,  # 3.5 is here to make particle speed adequate\n",
    "                impulse_pos[0],\n",
    "                impulse_pos[1],\n",
    "                m_power,\n",
    "            )  # particles are just a decoration\n",
    "            p.ApplyLinearImpulse(\n",
    "                (ox * MAIN_ENGINE_POWER * m_power, oy * MAIN_ENGINE_POWER * m_power),\n",
    "                impulse_pos,\n",
    "                True,\n",
    "            )\n",
    "            self.lander.ApplyLinearImpulse(\n",
    "                (-ox * MAIN_ENGINE_POWER * m_power, -oy * MAIN_ENGINE_POWER * m_power),\n",
    "                impulse_pos,\n",
    "                True,\n",
    "            )\n",
    "\n",
    "        s_power = 0.0\n",
    "        if (self.continuous and np.abs(action[1]) > 0.5) or (\n",
    "            not self.continuous and action in [1, 3]\n",
    "        ):\n",
    "            # Orientation engines\n",
    "            if self.continuous:\n",
    "                direction = np.sign(action[1])\n",
    "                s_power = np.clip(np.abs(action[1]), 0.5, 1.0)\n",
    "                assert s_power >= 0.5 and s_power <= 1.0\n",
    "            else:\n",
    "                direction = action - 2\n",
    "                s_power = 1.0\n",
    "            ox = tip[0] * dispersion[0] + side[0] * (\n",
    "                3 * dispersion[1] + direction * SIDE_ENGINE_AWAY / SCALE\n",
    "            )\n",
    "            oy = -tip[1] * dispersion[0] - side[1] * (\n",
    "                3 * dispersion[1] + direction * SIDE_ENGINE_AWAY / SCALE\n",
    "            )\n",
    "            impulse_pos = (\n",
    "                self.lander.position[0] + ox - tip[0] * 17 / SCALE,\n",
    "                self.lander.position[1] + oy + tip[1] * SIDE_ENGINE_HEIGHT / SCALE,\n",
    "            )\n",
    "            p = self._create_particle(0.7, impulse_pos[0], impulse_pos[1], s_power)\n",
    "            p.ApplyLinearImpulse(\n",
    "                (ox * SIDE_ENGINE_POWER * s_power, oy * SIDE_ENGINE_POWER * s_power),\n",
    "                impulse_pos,\n",
    "                True,\n",
    "            )\n",
    "            self.lander.ApplyLinearImpulse(\n",
    "                (-ox * SIDE_ENGINE_POWER * s_power, -oy * SIDE_ENGINE_POWER * s_power),\n",
    "                impulse_pos,\n",
    "                True,\n",
    "            )\n",
    "\n",
    "        self.world.Step(1.0 / FPS, 6 * 30, 2 * 30)\n",
    "\n",
    "        pos = self.lander.position\n",
    "        vel = self.lander.linearVelocity\n",
    "        state = [\n",
    "            (pos.x - VIEWPORT_W / SCALE / 2) / (VIEWPORT_W / SCALE / 2),\n",
    "            (pos.y - (self.helipad_y + LEG_DOWN / SCALE)) / (VIEWPORT_H / SCALE / 2),\n",
    "            vel.x * (VIEWPORT_W / SCALE / 2) / FPS,\n",
    "            vel.y * (VIEWPORT_H / SCALE / 2) / FPS,\n",
    "            self.lander.angle,\n",
    "            20.0 * self.lander.angularVelocity / FPS,\n",
    "            1.0 if self.legs[0].ground_contact else 0.0,\n",
    "            1.0 if self.legs[1].ground_contact else 0.0,\n",
    "        ]\n",
    "        assert len(state) == 8\n",
    "\n",
    "        reward = 0\n",
    "        shaping = (\n",
    "            -100 * np.sqrt(state[0] * state[0] + state[1] * state[1])\n",
    "            - 100 * np.sqrt(state[2] * state[2] + state[3] * state[3])\n",
    "            - 100 * abs(state[4])\n",
    "            - 1 * abs(state[3])/5\n",
    "            - 20 * abs(state[5])\n",
    "            + 30 * state[6]\n",
    "            + 30 * state[7]\n",
    "        )  # And ten points for legs contact, the idea is if you\n",
    "        # lose contact again after landing, you get negative reward\n",
    "        if self.prev_shaping is not None:\n",
    "            reward = shaping - self.prev_shaping\n",
    "        self.prev_shaping = shaping\n",
    "\n",
    "        reward -= (\n",
    "            m_power * 0.2\n",
    "        )  # less fuel spent is better, about -30 for heuristic landing\n",
    "        reward -= s_power * 0.02\n",
    "\n",
    "        Chunks = 11\n",
    "        Wi = VIEWPORT_W / SCALE\n",
    "        chunkx = [Wi / (Chunks - 1) * i for i in range(Chunks)]\n",
    "        helipadx1 = chunkx[Chunks // 2 - 1]\n",
    "        helipadx2 = chunkx[Chunks // 2 + 1]\n",
    "        left_pad = (helipadx1 - 10) / 10\n",
    "        right_pad = (helipadx2 - 10) / 10\n",
    "\n",
    "\n",
    "        terminated = False\n",
    "        if self.game_over or abs(state[0]) >= 1.0:\n",
    "            terminated = True\n",
    "            reward = -100\n",
    "        if state[6] == 1 and state[7] == 1 and not self.game_over and state[0] > left_pad and state[0] < right_pad:\n",
    "            self.lander.awake = False\n",
    "        if not self.lander.awake:\n",
    "            terminated = True\n",
    "            reward = +150\n",
    "\n",
    "        if self.render_mode == \"human\":\n",
    "            self.render()\n",
    "        return np.array(state, dtype=np.float32), reward, terminated, False, {}"
   ]
  },
  {
   "cell_type": "markdown",
   "metadata": {},
   "source": [
    "## Registering the new environment"
   ]
  },
  {
   "cell_type": "code",
   "execution_count": 122,
   "metadata": {},
   "outputs": [],
   "source": [
    "from gym.envs.registration import register"
   ]
  },
  {
   "cell_type": "code",
   "execution_count": 123,
   "metadata": {},
   "outputs": [],
   "source": [
    "register(\n",
    "    id='Lon', # name given to this new environment\n",
    "    entry_point=__name__+':RewardShaped', # env entry point\n",
    "    kwargs={}\n",
    ")"
   ]
  },
  {
   "cell_type": "code",
   "execution_count": 124,
   "metadata": {},
   "outputs": [
    {
     "name": "stdout",
     "output_type": "stream",
     "text": [
      "EnvSpec(id='Lon', entry_point='__main__:RewardShaped', reward_threshold=None, nondeterministic=False, max_episode_steps=None, order_enforce=True, autoreset=False, disable_env_checker=False, apply_api_compatibility=False, kwargs={}, namespace=None, name='Lon', version=None)\n"
     ]
    }
   ],
   "source": [
    "from gym import envs\n",
    "print(envs.registry[\"Lon\"])"
   ]
  },
  {
   "cell_type": "code",
   "execution_count": 125,
   "metadata": {},
   "outputs": [],
   "source": [
    "env = gym.make(\"Lon\")"
   ]
  },
  {
   "cell_type": "code",
   "execution_count": 126,
   "metadata": {},
   "outputs": [],
   "source": [
    "device = torch.device(\"cuda\" if torch.cuda.is_available() else \"cpu\")\n",
    "\n",
    "state_size = env.observation_space.shape[0]\n",
    "action_size = env.action_space.n\n",
    "lr = 0.0001"
   ]
  },
  {
   "cell_type": "code",
   "execution_count": 127,
   "metadata": {},
   "outputs": [],
   "source": [
    "import pennylane as qml"
   ]
  },
  {
   "cell_type": "markdown",
   "metadata": {},
   "source": [
    "## Defining Actor VQC Function"
   ]
  },
  {
   "cell_type": "code",
   "execution_count": 128,
   "metadata": {},
   "outputs": [],
   "source": [
    "def ActorLayer(n_qubits, n_layers):\n",
    "\n",
    "    # For Pennylane simulator\n",
    "    #dev = qml.device(\"default.qubit\", wires=n_qubits)\n",
    "\n",
    "    # For IBMQ simulator\n",
    "    dev = qml.device(\"qiskit.ibmq\", wires=n_qubits, backend=\"ibmq_qasm_simulator\", ibmqx_token=\"<enter IBM token>\")\n",
    "\n",
    "    dimensions = {\n",
    "        \"x_weights\": (n_layers, n_qubits),\n",
    "        #\"y_weights\": (n_layers, n_qubits),\n",
    "        \"z_weights\": (n_layers, n_qubits)\n",
    "    }\n",
    "\n",
    "    @qml.qnode(dev, interface='torch')\n",
    "    def circuit(inputs, x_weights, z_weights):\n",
    "        for layer_idx in range(n_layers):\n",
    "            if (layer_idx == 0):\n",
    "                for wire in range(n_qubits):\n",
    "                    qml.RX(inputs[wire], wires=wire)\n",
    "            for wire, x_weight in enumerate(x_weights[layer_idx]):\n",
    "                qml.RX(x_weight, wires=wire)\n",
    "            #for wire, y_weight in enumerate(y_weights[layer_idx]):\n",
    "            #    qml.RX(y_weight, wires=wire)\n",
    "            for wire, z_weight in enumerate(z_weights[layer_idx]):\n",
    "                qml.RZ(z_weight, wires=wire)\n",
    "            for wire in range(n_qubits-1):\n",
    "                qml.CNOT(wires=[wire, (wire + 1) % n_qubits])\n",
    "        return [\n",
    "            qml.expval(qml.PauliZ(6) @ qml.PauliZ(7)),\n",
    "            qml.expval(qml.PauliZ(0) @ qml.PauliZ(2)),\n",
    "            qml.expval(qml.PauliZ(1) @ qml.PauliZ(3)),\n",
    "            qml.expval(qml.PauliZ(4) @ qml.PauliZ(5)) \n",
    "        ]\n",
    "\n",
    "    model = qml.qnn.TorchLayer(circuit, dimensions)\n",
    "    return model"
   ]
  },
  {
   "cell_type": "markdown",
   "metadata": {},
   "source": [
    "## Defining Actor and Critic functions"
   ]
  },
  {
   "cell_type": "code",
   "execution_count": 129,
   "metadata": {},
   "outputs": [],
   "source": [
    "class Actor(nn.Module):\n",
    "    def __init__(self, n_layers=5):\n",
    "        super(Actor, self).__init__()\n",
    "        self.n_qubits = 8\n",
    "        self.n_actions = 4\n",
    "        #self.data_reupload = data_reupload\n",
    "        self.action_head = ActorLayer(n_qubits=self.n_qubits, n_layers=n_layers)\n",
    "\n",
    "    def forward(self, state):\n",
    "        state = torch.atan(state)\n",
    "        outputs = self.action_head(state)\n",
    "        outputs = -1 + (outputs - outputs.min()) * (2) / (outputs.max() - outputs.min())\n",
    "        distribution = Categorical(F.softmax(outputs, dim=-1))\n",
    "        return distribution\n",
    "\n",
    "\n",
    "class Critic(nn.Module):\n",
    "    def __init__(self, state_size, action_size):\n",
    "        super(Critic, self).__init__()\n",
    "        self.state_size = state_size\n",
    "        self.action_size = action_size\n",
    "        self.linear1 = nn.Linear(self.state_size, 128)\n",
    "        self.linear2 = nn.Linear(128, 256)\n",
    "        self.linear3 = nn.Linear(256, 1)\n",
    "\n",
    "    def forward(self, state):\n",
    "        output = F.relu(self.linear1(state))\n",
    "        output = F.relu(self.linear2(output))\n",
    "        value = self.linear3(output)\n",
    "        return value"
   ]
  },
  {
   "cell_type": "code",
   "execution_count": 130,
   "metadata": {},
   "outputs": [],
   "source": [
    "actor = Actor().to(device)\n",
    "\n",
    "critic = Critic(state_size, action_size).to(device)\n"
   ]
  },
  {
   "cell_type": "markdown",
   "metadata": {},
   "source": [
    "## Testing the Hybrid Agent"
   ]
  },
  {
   "cell_type": "code",
   "execution_count": 131,
   "metadata": {},
   "outputs": [
    {
     "data": {
      "text/plain": [
       "<All keys matched successfully>"
      ]
     },
     "execution_count": 131,
     "metadata": {},
     "output_type": "execute_result"
    }
   ],
   "source": [
    "actor.load_state_dict(torch.load(\"lra2ca.pt\"))\n",
    "critic.load_state_dict(torch.load(\"lra2cc.pt\"))"
   ]
  },
  {
   "cell_type": "code",
   "execution_count": 132,
   "metadata": {},
   "outputs": [
    {
     "name": "stdout",
     "output_type": "stream",
     "text": [
      "Episode 0: Reward -139.10128179128523\n",
      "Episode 1: Reward -82.86284343376322\n",
      "Episode 2: Reward 204.17621704056336\n",
      "Episode 3: Reward -46.90977831634203\n",
      "Episode 4: Reward -79.65212367825394\n"
     ]
    }
   ],
   "source": [
    "steps = []\n",
    "rewards = []\n",
    "frames = []\n",
    "\n",
    "for i in range(5):\n",
    "    done = False\n",
    "    t_rewards = 0\n",
    "    step_i = 0\n",
    "    state, info = env.reset()\n",
    "    while not done:\n",
    "        #frames.append(env.render())\n",
    "        state = torch.FloatTensor(state).to(device)\n",
    "        dist, value = actor(state), critic(state)\n",
    "        \n",
    "        action = dist.sample()\n",
    "        obs, reward, term, trunc, info = env.step(action.cpu().numpy())\n",
    "        step_i += 1\n",
    "        done = term or trunc\n",
    "\n",
    "        t_rewards += reward\n",
    "        if done:\n",
    "            break\n",
    "        else:\n",
    "            state = obs\n",
    "    \n",
    "    steps.append(step_i)\n",
    "    rewards.append(t_rewards)\n",
    "    print(f\"Episode {i}: Reward {t_rewards}\")\n",
    "\n",
    "#saveanimation(frames)\n",
    "env.close()"
   ]
  },
  {
   "cell_type": "code",
   "execution_count": 133,
   "metadata": {},
   "outputs": [],
   "source": [
    "import matplotlib.pyplot as plt\n",
    "\n",
    "episodes = [1, 2, 3, 4, 5]"
   ]
  },
  {
   "cell_type": "code",
   "execution_count": 134,
   "metadata": {},
   "outputs": [
    {
     "data": {
      "text/plain": [
       "Text(0, 0.5, 'Reward')"
      ]
     },
     "execution_count": 134,
     "metadata": {},
     "output_type": "execute_result"
    },
    {
     "data": {
      "image/png": "[encoded data removed]",
      "text/plain": [
       "<Figure size 1000x500 with 1 Axes>"
      ]
     },
     "metadata": {},
     "output_type": "display_data"
    }
   ],
   "source": [
    "plt.figure(figsize=(10, 5))\n",
    "plt.subplot(1, 1, 1)  # 1 row, 2 columns, plot 1\n",
    "plt.plot(episodes, rewards, marker='o')\n",
    "plt.title('Reward vs. Episode')\n",
    "plt.xlabel('Episode')\n",
    "plt.ylabel('Reward')"
   ]
  },
  {
   "cell_type": "code",
   "execution_count": 135,
   "metadata": {},
   "outputs": [
    {
     "name": "stdout",
     "output_type": "stream",
     "text": [
      "-28.86996203581622\n"
     ]
    }
   ],
   "source": [
    "avgs = sum(rewards)/5\n",
    "print (avgs)"
   ]
  }
 ],
 "metadata": {
  "kernelspec": {
   "display_name": "gyenv",
   "language": "python",
   "name": "python3"
  },
  "language_info": {
   "codemirror_mode": {
    "name": "ipython",
    "version": 3
   },
   "file_extension": ".py",
   "mimetype": "text/x-python",
   "name": "python",
   "nbconvert_exporter": "python",
   "pygments_lexer": "ipython3",
   "version": "3.10.8"
  }
 },
 "nbformat": 4,
 "nbformat_minor": 2
}
